{
 "cells": [
  {
   "cell_type": "code",
   "execution_count": 1,
   "id": "df77715a-55bb-49f3-8c78-95f052275e8e",
   "metadata": {},
   "outputs": [],
   "source": [
    "# import libraries\n",
    "import pandas as pd\n",
    "import numpy as np\n",
    "from sklearn.linear_model import LinearRegression, LassoCV, RidgeCV\n",
    "from sklearn.model_selection import train_test_split, cross_val_score\n",
    "from sklearn.preprocessing import StandardScaler\n",
    "from sklearn.metrics import mean_squared_error\n",
    "import matplotlib.pyplot as plt\n",
    "import statsmodels.api as sm"
   ]
  },
  {
   "cell_type": "code",
   "execution_count": 2,
   "id": "14a399cb-54af-4265-80c0-63e146e29042",
   "metadata": {},
   "outputs": [
    {
     "data": {
      "text/html": [
       "<div>\n",
       "<style scoped>\n",
       "    .dataframe tbody tr th:only-of-type {\n",
       "        vertical-align: middle;\n",
       "    }\n",
       "\n",
       "    .dataframe tbody tr th {\n",
       "        vertical-align: top;\n",
       "    }\n",
       "\n",
       "    .dataframe thead th {\n",
       "        text-align: right;\n",
       "    }\n",
       "</style>\n",
       "<table border=\"1\" class=\"dataframe\">\n",
       "  <thead>\n",
       "    <tr style=\"text-align: right;\">\n",
       "      <th></th>\n",
       "      <th>id</th>\n",
       "      <th>flat_type</th>\n",
       "      <th>floor_area_sqm</th>\n",
       "      <th>resale_price</th>\n",
       "      <th>Tranc_Year</th>\n",
       "      <th>Tranc_Month</th>\n",
       "      <th>mid</th>\n",
       "      <th>hdb_age</th>\n",
       "      <th>max_floor_lvl</th>\n",
       "      <th>commercial</th>\n",
       "      <th>...</th>\n",
       "      <th>mrt_interchange</th>\n",
       "      <th>bus_stop_nearest_distance</th>\n",
       "      <th>pri_sch_nearest_distance</th>\n",
       "      <th>vacancy</th>\n",
       "      <th>pri_sch_affiliation</th>\n",
       "      <th>sec_sch_nearest_dist</th>\n",
       "      <th>cutoff_point</th>\n",
       "      <th>affiliation</th>\n",
       "      <th>total_unit_sold_%</th>\n",
       "      <th>total_unit_rental_%</th>\n",
       "    </tr>\n",
       "  </thead>\n",
       "  <tbody>\n",
       "    <tr>\n",
       "      <th>0</th>\n",
       "      <td>88471</td>\n",
       "      <td>4 ROOM</td>\n",
       "      <td>90.0</td>\n",
       "      <td>680000.0</td>\n",
       "      <td>2016</td>\n",
       "      <td>5</td>\n",
       "      <td>11</td>\n",
       "      <td>15</td>\n",
       "      <td>25</td>\n",
       "      <td>0</td>\n",
       "      <td>...</td>\n",
       "      <td>0</td>\n",
       "      <td>29.427395</td>\n",
       "      <td>1138.633422</td>\n",
       "      <td>78</td>\n",
       "      <td>1</td>\n",
       "      <td>1138.633422</td>\n",
       "      <td>224</td>\n",
       "      <td>0</td>\n",
       "      <td>100.0</td>\n",
       "      <td>0.0</td>\n",
       "    </tr>\n",
       "    <tr>\n",
       "      <th>1</th>\n",
       "      <td>122598</td>\n",
       "      <td>5 ROOM</td>\n",
       "      <td>130.0</td>\n",
       "      <td>665000.0</td>\n",
       "      <td>2012</td>\n",
       "      <td>7</td>\n",
       "      <td>8</td>\n",
       "      <td>34</td>\n",
       "      <td>9</td>\n",
       "      <td>0</td>\n",
       "      <td>...</td>\n",
       "      <td>1</td>\n",
       "      <td>58.207761</td>\n",
       "      <td>415.607357</td>\n",
       "      <td>45</td>\n",
       "      <td>1</td>\n",
       "      <td>447.894399</td>\n",
       "      <td>232</td>\n",
       "      <td>0</td>\n",
       "      <td>100.0</td>\n",
       "      <td>0.0</td>\n",
       "    </tr>\n",
       "    <tr>\n",
       "      <th>2</th>\n",
       "      <td>170897</td>\n",
       "      <td>EXECUTIVE</td>\n",
       "      <td>144.0</td>\n",
       "      <td>838000.0</td>\n",
       "      <td>2013</td>\n",
       "      <td>7</td>\n",
       "      <td>14</td>\n",
       "      <td>24</td>\n",
       "      <td>16</td>\n",
       "      <td>0</td>\n",
       "      <td>...</td>\n",
       "      <td>0</td>\n",
       "      <td>214.747860</td>\n",
       "      <td>498.849039</td>\n",
       "      <td>39</td>\n",
       "      <td>0</td>\n",
       "      <td>180.074558</td>\n",
       "      <td>188</td>\n",
       "      <td>0</td>\n",
       "      <td>100.0</td>\n",
       "      <td>0.0</td>\n",
       "    </tr>\n",
       "    <tr>\n",
       "      <th>3</th>\n",
       "      <td>86070</td>\n",
       "      <td>4 ROOM</td>\n",
       "      <td>103.0</td>\n",
       "      <td>550000.0</td>\n",
       "      <td>2012</td>\n",
       "      <td>4</td>\n",
       "      <td>3</td>\n",
       "      <td>29</td>\n",
       "      <td>11</td>\n",
       "      <td>1</td>\n",
       "      <td>...</td>\n",
       "      <td>1</td>\n",
       "      <td>43.396521</td>\n",
       "      <td>389.515528</td>\n",
       "      <td>20</td>\n",
       "      <td>1</td>\n",
       "      <td>389.515528</td>\n",
       "      <td>253</td>\n",
       "      <td>1</td>\n",
       "      <td>100.0</td>\n",
       "      <td>0.0</td>\n",
       "    </tr>\n",
       "    <tr>\n",
       "      <th>4</th>\n",
       "      <td>153632</td>\n",
       "      <td>4 ROOM</td>\n",
       "      <td>83.0</td>\n",
       "      <td>298000.0</td>\n",
       "      <td>2017</td>\n",
       "      <td>12</td>\n",
       "      <td>2</td>\n",
       "      <td>34</td>\n",
       "      <td>4</td>\n",
       "      <td>0</td>\n",
       "      <td>...</td>\n",
       "      <td>0</td>\n",
       "      <td>129.422752</td>\n",
       "      <td>401.200584</td>\n",
       "      <td>74</td>\n",
       "      <td>0</td>\n",
       "      <td>312.025435</td>\n",
       "      <td>208</td>\n",
       "      <td>0</td>\n",
       "      <td>100.0</td>\n",
       "      <td>0.0</td>\n",
       "    </tr>\n",
       "  </tbody>\n",
       "</table>\n",
       "<p>5 rows × 37 columns</p>\n",
       "</div>"
      ],
      "text/plain": [
       "       id  flat_type  floor_area_sqm  resale_price  Tranc_Year  Tranc_Month  \\\n",
       "0   88471     4 ROOM            90.0      680000.0        2016            5   \n",
       "1  122598     5 ROOM           130.0      665000.0        2012            7   \n",
       "2  170897  EXECUTIVE           144.0      838000.0        2013            7   \n",
       "3   86070     4 ROOM           103.0      550000.0        2012            4   \n",
       "4  153632     4 ROOM            83.0      298000.0        2017           12   \n",
       "\n",
       "   mid  hdb_age  max_floor_lvl  commercial  ...  mrt_interchange  \\\n",
       "0   11       15             25           0  ...                0   \n",
       "1    8       34              9           0  ...                1   \n",
       "2   14       24             16           0  ...                0   \n",
       "3    3       29             11           1  ...                1   \n",
       "4    2       34              4           0  ...                0   \n",
       "\n",
       "   bus_stop_nearest_distance  pri_sch_nearest_distance  vacancy  \\\n",
       "0                  29.427395               1138.633422       78   \n",
       "1                  58.207761                415.607357       45   \n",
       "2                 214.747860                498.849039       39   \n",
       "3                  43.396521                389.515528       20   \n",
       "4                 129.422752                401.200584       74   \n",
       "\n",
       "  pri_sch_affiliation  sec_sch_nearest_dist  cutoff_point  affiliation  \\\n",
       "0                   1           1138.633422           224            0   \n",
       "1                   1            447.894399           232            0   \n",
       "2                   0            180.074558           188            0   \n",
       "3                   1            389.515528           253            1   \n",
       "4                   0            312.025435           208            0   \n",
       "\n",
       "   total_unit_sold_%  total_unit_rental_%  \n",
       "0              100.0                  0.0  \n",
       "1              100.0                  0.0  \n",
       "2              100.0                  0.0  \n",
       "3              100.0                  0.0  \n",
       "4              100.0                  0.0  \n",
       "\n",
       "[5 rows x 37 columns]"
      ]
     },
     "execution_count": 2,
     "metadata": {},
     "output_type": "execute_result"
    }
   ],
   "source": [
    "housing = pd.read_csv('./data/cleaned_data.csv')\n",
    "housing.drop('Unnamed: 0', axis=1, inplace=True)\n",
    "housing.head()"
   ]
  },
  {
   "cell_type": "markdown",
   "id": "ba53e9b8-aab5-4447-84e9-bfcab6f785ae",
   "metadata": {},
   "source": [
    "#### Features Selection and Data Split"
   ]
  },
  {
   "cell_type": "code",
   "execution_count": 3,
   "id": "37e9e444-2aa2-4a47-aa3c-515bff6107b3",
   "metadata": {},
   "outputs": [],
   "source": [
    "# compared to model 2, I have added 'flat_type' and 'Tranc_year' as features\n",
    "# However, I do not agree with adding Tranc_Year as a feature, which I would elaborate the reasons later\n",
    "# It is added as a main purpose of attempting to improve the model 2\n",
    "\n",
    "x = housing[['floor_area_sqm','max_floor_lvl', 'mid', 'hdb_age','planning_area','flat_type','Tranc_Year', \n",
    "             'total_dwelling_units', 'mrt_nearest_distance', \n",
    "             'Hawker_Within_2km', 'Mall_Within_2km']]\n",
    "y = housing[['resale_price']]\n",
    "\n",
    "x = pd.get_dummies(x, columns=['planning_area','flat_type','Tranc_Year'], drop_first=True)"
   ]
  },
  {
   "cell_type": "code",
   "execution_count": 4,
   "id": "36b7fb5d-aae8-40a5-a00e-9b4fc6decacc",
   "metadata": {},
   "outputs": [],
   "source": [
    "x_train, x_test, y_train, y_test = train_test_split(x, y, random_state=86)"
   ]
  },
  {
   "cell_type": "markdown",
   "id": "affd6d40-d8e6-4a09-9faa-bf83b8bb494d",
   "metadata": {},
   "source": [
    "#### Verify statistical significance"
   ]
  },
  {
   "cell_type": "code",
   "execution_count": 5,
   "id": "6ee0e5ec-55eb-4bc5-9342-c9024201fe24",
   "metadata": {},
   "outputs": [
    {
     "name": "stdout",
     "output_type": "stream",
     "text": [
      "                                 OLS Regression Results                                \n",
      "=======================================================================================\n",
      "Dep. Variable:           resale_price   R-squared (uncentered):                   0.988\n",
      "Model:                            OLS   Adj. R-squared (uncentered):              0.988\n",
      "Method:                 Least Squares   F-statistic:                          1.765e+05\n",
      "Date:                Sun, 03 Mar 2024   Prob (F-statistic):                        0.00\n",
      "Time:                        21:55:32   Log-Likelihood:                     -1.3770e+06\n",
      "No. Observations:              112353   AIC:                                  2.754e+06\n",
      "Df Residuals:                  112299   BIC:                                  2.755e+06\n",
      "Df Model:                          54                                                  \n",
      "Covariance Type:            nonrobust                                                  \n",
      "=========================================================================================================\n",
      "                                            coef    std err          t      P>|t|      [0.025      0.975]\n",
      "---------------------------------------------------------------------------------------------------------\n",
      "floor_area_sqm                         3542.8095     22.135    160.051      0.000    3499.424    3586.195\n",
      "max_floor_lvl                          3995.0738     44.473     89.832      0.000    3907.908    4082.240\n",
      "mid                                    3539.3962     33.238    106.486      0.000    3474.250    3604.543\n",
      "hdb_age                               -3631.1283     21.468   -169.145      0.000   -3673.204   -3589.052\n",
      "total_dwelling_units                   -125.7045      3.515    -35.759      0.000    -132.594    -118.815\n",
      "mrt_nearest_distance                    -56.9171      0.410   -138.786      0.000     -57.721     -56.113\n",
      "Hawker_Within_2km                      8685.8041    131.985     65.809      0.000    8427.116    8944.492\n",
      "Mall_Within_2km                         -10.0046     68.424     -0.146      0.884    -144.115     124.106\n",
      "planning_area_Bedok                   -2591.1344    987.021     -2.625      0.009   -4525.681    -656.588\n",
      "planning_area_Bishan                    9.57e+04   1320.767     72.457      0.000    9.31e+04    9.83e+04\n",
      "planning_area_Bukit Batok             -9843.2180   1522.180     -6.467      0.000   -1.28e+04   -6859.768\n",
      "planning_area_Bukit Merah              2.955e+04   1248.860     23.665      0.000    2.71e+04     3.2e+04\n",
      "planning_area_Bukit Panjang           -5.454e+04   1554.241    -35.089      0.000   -5.76e+04   -5.15e+04\n",
      "planning_area_Bukit Timah              2.161e+05   3212.179     67.279      0.000     2.1e+05    2.22e+05\n",
      "planning_area_Changi                   2.221e+05   9152.141     24.263      0.000    2.04e+05     2.4e+05\n",
      "planning_area_Choa Chu Kang           -8.827e+04   1614.665    -54.669      0.000   -9.14e+04   -8.51e+04\n",
      "planning_area_Clementi                 6.895e+04   1323.904     52.084      0.000    6.64e+04    7.15e+04\n",
      "planning_area_Downtown Core            1.529e+05   1.03e+04     14.911      0.000    1.33e+05    1.73e+05\n",
      "planning_area_Geylang                  6075.2905   1214.850      5.001      0.000    3694.203    8456.378\n",
      "planning_area_Hougang                   -91.9821   1382.216     -0.067      0.947   -2801.105    2617.141\n",
      "planning_area_Jurong East             -2007.1041   1498.490     -1.339      0.180   -4944.122     929.914\n",
      "planning_area_Jurong West             -5.801e+04   1266.945    -45.784      0.000   -6.05e+04   -5.55e+04\n",
      "planning_area_Kallang                  1.576e+04   1397.292     11.278      0.000     1.3e+04    1.85e+04\n",
      "planning_area_Marine Parade            2.287e+05   2248.184    101.729      0.000    2.24e+05    2.33e+05\n",
      "planning_area_Novena                  -1525.6276   1979.403     -0.771      0.441   -5405.228    2353.973\n",
      "planning_area_Outram                   1.024e+05   2531.079     40.445      0.000    9.74e+04    1.07e+05\n",
      "planning_area_Pasir Ris               -1.511e+04   1562.934     -9.671      0.000   -1.82e+04   -1.21e+04\n",
      "planning_area_Punggol                 -2.442e+04   1587.389    -15.387      0.000   -2.75e+04   -2.13e+04\n",
      "planning_area_Queenstown               7.017e+04   1212.921     57.855      0.000    6.78e+04    7.26e+04\n",
      "planning_area_Rochor                   1.218e+04   3525.288      3.456      0.001    5275.151    1.91e+04\n",
      "planning_area_Sembawang               -1.086e+05   1657.741    -65.532      0.000   -1.12e+05   -1.05e+05\n",
      "planning_area_Sengkang                -4.037e+04   1524.647    -26.478      0.000   -4.34e+04   -3.74e+04\n",
      "planning_area_Serangoon                5.984e+04   1439.800     41.564      0.000     5.7e+04    6.27e+04\n",
      "planning_area_Tampines                  1.41e+04   1330.932     10.596      0.000    1.15e+04    1.67e+04\n",
      "planning_area_Tanglin                  2.096e+05   1.14e+04     18.357      0.000    1.87e+05    2.32e+05\n",
      "planning_area_Toa Payoh                2.756e+04   1134.544     24.295      0.000    2.53e+04    2.98e+04\n",
      "planning_area_Western Water Catchment -9.583e+04   1.62e+04     -5.933      0.000   -1.27e+05   -6.42e+04\n",
      "planning_area_Woodlands               -8.997e+04   1337.532    -67.267      0.000   -9.26e+04   -8.74e+04\n",
      "planning_area_Yishun                  -2.339e+04   1329.714    -17.589      0.000    -2.6e+04   -2.08e+04\n",
      "flat_type_2 ROOM                       1.549e+05   2370.740     65.347      0.000     1.5e+05     1.6e+05\n",
      "flat_type_3 ROOM                       1.784e+05   2271.978     78.527      0.000    1.74e+05    1.83e+05\n",
      "flat_type_4 ROOM                       1.832e+05   2673.227     68.534      0.000    1.78e+05    1.88e+05\n",
      "flat_type_5 ROOM                       1.926e+05   3086.754     62.383      0.000    1.87e+05    1.99e+05\n",
      "flat_type_EXECUTIVE                    2.345e+05   3562.543     65.823      0.000    2.28e+05    2.41e+05\n",
      "flat_type_MULTI-GENERATION             3.062e+05   8846.344     34.616      0.000    2.89e+05    3.24e+05\n",
      "Tranc_Year_2013                        1.405e+04    691.806     20.309      0.000    1.27e+04    1.54e+04\n",
      "Tranc_Year_2014                       -1.557e+04    691.868    -22.502      0.000   -1.69e+04   -1.42e+04\n",
      "Tranc_Year_2015                       -3.486e+04    675.943    -51.572      0.000   -3.62e+04   -3.35e+04\n",
      "Tranc_Year_2016                       -3.639e+04    661.286    -55.029      0.000   -3.77e+04   -3.51e+04\n",
      "Tranc_Year_2017                       -4.145e+04    650.675    -63.709      0.000   -4.27e+04   -4.02e+04\n",
      "Tranc_Year_2018                       -4.847e+04    644.037    -75.260      0.000   -4.97e+04   -4.72e+04\n",
      "Tranc_Year_2019                       -5.072e+04    640.655    -79.173      0.000    -5.2e+04   -4.95e+04\n",
      "Tranc_Year_2020                       -4.091e+04    640.012    -63.915      0.000   -4.22e+04   -3.97e+04\n",
      "Tranc_Year_2021                       -1.536e+04    855.551    -17.949      0.000    -1.7e+04   -1.37e+04\n",
      "==============================================================================\n",
      "Omnibus:                    25417.062   Durbin-Watson:                   2.001\n",
      "Prob(Omnibus):                  0.000   Jarque-Bera (JB):           131693.284\n",
      "Skew:                           1.000   Prob(JB):                         0.00\n",
      "Kurtosis:                       7.913   Cond. No.                     9.46e+04\n",
      "==============================================================================\n",
      "\n",
      "Notes:\n",
      "[1] R² is computed without centering (uncentered) since the model does not contain a constant.\n",
      "[2] Standard Errors assume that the covariance matrix of the errors is correctly specified.\n",
      "[3] The condition number is large, 9.46e+04. This might indicate that there are\n",
      "strong multicollinearity or other numerical problems.\n"
     ]
    }
   ],
   "source": [
    "stats_x = pd.DataFrame(x_train)\n",
    "stats_x.columns = x.columns\n",
    "stats_model = sm.OLS(y_train, stats_x).fit() # fit in OLS model in statsmodel using post split trainning data\n",
    "print(stats_model.summary())"
   ]
  },
  {
   "cell_type": "markdown",
   "id": "3d3ae195-a8e2-4316-9b66-fc3d8540f25f",
   "metadata": {},
   "source": [
    "It looks like the features below have p value that is more than 0.05, which signify they are not statistically insignificant.  \n",
    "1) Mall_within_2km\n",
    "2) planning_area_Hougang\n",
    "3) planning_area_Novena\n",
    "4) planning_area_Jurong East\n",
    "\n",
    "However, a high p-value means we are not to reject the null hypothesis, which in this case the hypothesis is that the feature has no statistical significance. It does not necessarily mean the feature has no predictive value in the model, or unable to explain the variance in the data. It might also mean that the data does not offer sufficient evidence to prove the feature significance.  \n",
    "\n",
    "As the \"planning area\" is one feature that has been one hot encoded into categorical values, dropping any of these would lead to biased estimate and distorted coefficient. Therefore we would be keeping the above (2) to (4) and remove Mall_within_2km from the features selection.\n",
    "\n"
   ]
  },
  {
   "cell_type": "code",
   "execution_count": 6,
   "id": "241a5a3c-c2ca-4379-a0cd-2f1e30eaa6d7",
   "metadata": {},
   "outputs": [
    {
     "name": "stdout",
     "output_type": "stream",
     "text": [
      "                                 OLS Regression Results                                \n",
      "=======================================================================================\n",
      "Dep. Variable:           resale_price   R-squared (uncentered):                   0.988\n",
      "Model:                            OLS   Adj. R-squared (uncentered):              0.988\n",
      "Method:                 Least Squares   F-statistic:                          1.786e+05\n",
      "Date:                Sun, 03 Mar 2024   Prob (F-statistic):                        0.00\n",
      "Time:                        21:55:33   Log-Likelihood:                     -1.3773e+06\n",
      "No. Observations:              112353   AIC:                                  2.755e+06\n",
      "Df Residuals:                  112300   BIC:                                  2.755e+06\n",
      "Df Model:                          53                                                  \n",
      "Covariance Type:            nonrobust                                                  \n",
      "=========================================================================================================\n",
      "                                            coef    std err          t      P>|t|      [0.025      0.975]\n",
      "---------------------------------------------------------------------------------------------------------\n",
      "floor_area_sqm                         3546.6089     22.074    160.668      0.000    3503.344    3589.874\n",
      "max_floor_lvl                          4018.8969     44.489     90.335      0.000    3931.700    4106.094\n",
      "mid                                    3515.7038     33.408    105.237      0.000    3450.225    3581.182\n",
      "hdb_age                               -3610.9902     21.507   -167.895      0.000   -3653.144   -3568.836\n",
      "total_dwelling_units                   -127.2220      3.511    -36.231      0.000    -134.104    -120.340\n",
      "mrt_nearest_distance                    -56.9247      0.408   -139.450      0.000     -57.725     -56.125\n",
      "Hawker_Within_2km                      8583.1317    129.190     66.438      0.000    8329.921    8836.342\n",
      "planning_area_Bedok                   -3001.9462    979.323     -3.065      0.002   -4921.406   -1082.487\n",
      "planning_area_Bishan                   9.444e+04   1326.131     71.216      0.000    9.18e+04     9.7e+04\n",
      "planning_area_Bukit Batok             -9849.5592   1497.399     -6.578      0.000   -1.28e+04   -6914.679\n",
      "planning_area_Bukit Merah              2.986e+04   1233.275     24.214      0.000    2.74e+04    3.23e+04\n",
      "planning_area_Bukit Panjang           -5.556e+04   1482.842    -37.468      0.000   -5.85e+04   -5.27e+04\n",
      "planning_area_Bukit Timah              2.149e+05   3296.340     65.179      0.000    2.08e+05    2.21e+05\n",
      "planning_area_Changi                   2.211e+05   9963.550     22.188      0.000    2.02e+05    2.41e+05\n",
      "planning_area_Choa Chu Kang           -8.886e+04   1550.637    -57.308      0.000   -9.19e+04   -8.58e+04\n",
      "planning_area_Clementi                 6.958e+04   1315.761     52.881      0.000     6.7e+04    7.22e+04\n",
      "planning_area_Downtown Core            1.518e+05   9869.900     15.379      0.000    1.32e+05    1.71e+05\n",
      "planning_area_Geylang                  4410.2589   1183.198      3.727      0.000    2091.209    6729.309\n",
      "planning_area_Hougang                 -1165.3730   1319.908     -0.883      0.377   -3752.374    1421.628\n",
      "planning_area_Jurong East             -2062.4526   1481.678     -1.392      0.164   -4966.520     841.615\n",
      "planning_area_Jurong West             -5.857e+04   1249.556    -46.875      0.000    -6.1e+04   -5.61e+04\n",
      "planning_area_Kallang                  1.475e+04   1289.337     11.443      0.000    1.22e+04    1.73e+04\n",
      "planning_area_Marine Parade            2.295e+05   2204.251    104.136      0.000    2.25e+05    2.34e+05\n",
      "planning_area_Novena                   3430.7779   1958.567      1.752      0.080    -407.983    7269.539\n",
      "planning_area_Outram                   9.586e+04   2360.546     40.611      0.000    9.12e+04       1e+05\n",
      "planning_area_Pasir Ris                -1.65e+04   1536.077    -10.739      0.000   -1.95e+04   -1.35e+04\n",
      "planning_area_Punggol                 -2.534e+04   1544.026    -16.410      0.000   -2.84e+04   -2.23e+04\n",
      "planning_area_Queenstown                6.94e+04   1214.327     57.151      0.000     6.7e+04    7.18e+04\n",
      "planning_area_Rochor                   9245.5318   2877.157      3.213      0.001    3606.347    1.49e+04\n",
      "planning_area_Sembawang               -1.086e+05   1653.097    -65.705      0.000   -1.12e+05   -1.05e+05\n",
      "planning_area_Sengkang                -4.085e+04   1452.146    -28.128      0.000   -4.37e+04    -3.8e+04\n",
      "planning_area_Serangoon                6.072e+04   1419.368     42.780      0.000    5.79e+04    6.35e+04\n",
      "planning_area_Tampines                 1.323e+04   1267.255     10.441      0.000    1.07e+04    1.57e+04\n",
      "planning_area_Tanglin                  2.191e+05   1.17e+04     18.653      0.000    1.96e+05    2.42e+05\n",
      "planning_area_Toa Payoh                2.722e+04   1126.265     24.170      0.000     2.5e+04    2.94e+04\n",
      "planning_area_Western Water Catchment -9.282e+04   1.93e+04     -4.801      0.000   -1.31e+05   -5.49e+04\n",
      "planning_area_Woodlands               -9.126e+04   1301.199    -70.136      0.000   -9.38e+04   -8.87e+04\n",
      "planning_area_Yishun                  -2.354e+04   1311.349    -17.949      0.000   -2.61e+04    -2.1e+04\n",
      "flat_type_2 ROOM                       1.539e+05   2362.280     65.162      0.000    1.49e+05    1.59e+05\n",
      "flat_type_3 ROOM                       1.785e+05   2281.733     78.232      0.000    1.74e+05    1.83e+05\n",
      "flat_type_4 ROOM                       1.834e+05   2680.512     68.427      0.000    1.78e+05    1.89e+05\n",
      "flat_type_5 ROOM                       1.924e+05   3093.250     62.195      0.000    1.86e+05    1.98e+05\n",
      "flat_type_EXECUTIVE                    2.349e+05   3567.801     65.826      0.000    2.28e+05    2.42e+05\n",
      "flat_type_MULTI-GENERATION             2.983e+05   8471.863     35.210      0.000    2.82e+05    3.15e+05\n",
      "Tranc_Year_2013                        1.385e+04    691.683     20.017      0.000    1.25e+04    1.52e+04\n",
      "Tranc_Year_2014                        -1.58e+04    694.192    -22.759      0.000   -1.72e+04   -1.44e+04\n",
      "Tranc_Year_2015                       -3.501e+04    675.522    -51.826      0.000   -3.63e+04   -3.37e+04\n",
      "Tranc_Year_2016                       -3.635e+04    661.214    -54.967      0.000   -3.76e+04    -3.5e+04\n",
      "Tranc_Year_2017                       -4.163e+04    652.152    -63.829      0.000   -4.29e+04   -4.03e+04\n",
      "Tranc_Year_2018                       -4.834e+04    645.040    -74.947      0.000   -4.96e+04   -4.71e+04\n",
      "Tranc_Year_2019                       -5.095e+04    641.137    -79.468      0.000   -5.22e+04   -4.97e+04\n",
      "Tranc_Year_2020                       -4.106e+04    640.487    -64.106      0.000   -4.23e+04   -3.98e+04\n",
      "Tranc_Year_2021                       -1.569e+04    857.957    -18.292      0.000   -1.74e+04    -1.4e+04\n",
      "==============================================================================\n",
      "Omnibus:                    26422.451   Durbin-Watson:                   1.995\n",
      "Prob(Omnibus):                  0.000   Jarque-Bera (JB):           142615.007\n",
      "Skew:                           1.030   Prob(JB):                         0.00\n",
      "Kurtosis:                       8.120   Cond. No.                     1.13e+05\n",
      "==============================================================================\n",
      "\n",
      "Notes:\n",
      "[1] R² is computed without centering (uncentered) since the model does not contain a constant.\n",
      "[2] Standard Errors assume that the covariance matrix of the errors is correctly specified.\n",
      "[3] The condition number is large, 1.13e+05. This might indicate that there are\n",
      "strong multicollinearity or other numerical problems.\n"
     ]
    }
   ],
   "source": [
    "# feature selection again and check for significance\n",
    "\n",
    "x = housing[['floor_area_sqm','max_floor_lvl', 'mid', 'hdb_age','planning_area','flat_type','Tranc_Year', \n",
    "             'total_dwelling_units', 'mrt_nearest_distance', \n",
    "             'Hawker_Within_2km']]\n",
    "y = housing[['resale_price']]\n",
    "\n",
    "x = pd.get_dummies(x, columns=['planning_area','flat_type','Tranc_Year'], drop_first=True)\n",
    "\n",
    "x_train, x_test, y_train, y_test = train_test_split(x, y, random_state=22)\n",
    "\n",
    "stats_x = pd.DataFrame(x_train)\n",
    "stats_x.columns = x.columns\n",
    "stats_model = sm.OLS(y_train, stats_x).fit() # fit in OLS model in statsmodel using post split trainning data\n",
    "print(stats_model.summary())"
   ]
  },
  {
   "cell_type": "markdown",
   "id": "b1f08fc9-ec20-4970-9316-e0ec4b613b8f",
   "metadata": {},
   "source": [
    "#### Scale data"
   ]
  },
  {
   "cell_type": "code",
   "execution_count": 7,
   "id": "4df3d55d-dd2c-49a2-9ec6-e299b159d9a5",
   "metadata": {},
   "outputs": [],
   "source": [
    "ss = StandardScaler()\n",
    "ss.fit(x_train)\n",
    "x_train = ss.transform(x_train)\n",
    "x_test = ss.transform(x_test)"
   ]
  },
  {
   "cell_type": "markdown",
   "id": "65cca524-e443-4486-94d1-0bc462722d16",
   "metadata": {},
   "source": [
    "#### Modeling"
   ]
  },
  {
   "cell_type": "code",
   "execution_count": 8,
   "id": "0a6b6fe1-78c4-4354-a99d-9999562b497c",
   "metadata": {},
   "outputs": [],
   "source": [
    "# Instantiate models\n",
    "lr = LinearRegression()\n",
    "lasso = LassoCV(n_alphas=200)\n",
    "ridge = RidgeCV(alphas=np.linspace(.1, 10, 100))"
   ]
  },
  {
   "cell_type": "code",
   "execution_count": 9,
   "id": "a6820041-b892-4f32-af72-f5ce2d32040f",
   "metadata": {},
   "outputs": [
    {
     "data": {
      "text/plain": [
       "0.8739348803947797"
      ]
     },
     "execution_count": 9,
     "metadata": {},
     "output_type": "execute_result"
    }
   ],
   "source": [
    "cross_val_score(lr, x_train, y_train, cv=5).mean()"
   ]
  },
  {
   "cell_type": "code",
   "execution_count": 10,
   "id": "74e91e4e-d61d-4735-8506-87b6d7bf2436",
   "metadata": {},
   "outputs": [
    {
     "data": {
      "text/plain": [
       "0.8738360730828783"
      ]
     },
     "execution_count": 10,
     "metadata": {},
     "output_type": "execute_result"
    }
   ],
   "source": [
    "cross_val_score(lasso, x_train, y_train.values.ravel(), cv=5).mean() # needed to apply ravel() as lasso does not accept [row, column]"
   ]
  },
  {
   "cell_type": "code",
   "execution_count": 11,
   "id": "b43ad156-78fe-40a3-8937-b5c1e810e9f3",
   "metadata": {},
   "outputs": [
    {
     "data": {
      "text/plain": [
       "0.8739348877206922"
      ]
     },
     "execution_count": 11,
     "metadata": {},
     "output_type": "execute_result"
    }
   ],
   "source": [
    "cross_val_score(ridge, x_train, y_train, cv=5).mean()"
   ]
  },
  {
   "cell_type": "markdown",
   "id": "5136cc1c-bd59-4b91-a778-1fc0c905cc07",
   "metadata": {},
   "source": [
    "All of the three models above performed better than the baseline model (43%) and the model 2 (82%).  \n",
    "However, It is only a marginal improvement, of merely 6% improvement in R2 from model 2."
   ]
  },
  {
   "cell_type": "code",
   "execution_count": 12,
   "id": "0c71b1cc-582b-47bc-8634-4d8b5756707b",
   "metadata": {},
   "outputs": [
    {
     "name": "stdout",
     "output_type": "stream",
     "text": [
      "0.8741306569580147\n",
      "0.8750810182556741\n"
     ]
    }
   ],
   "source": [
    "lr.fit(x_train, y_train)\n",
    "print(lr.score(x_train, y_train))\n",
    "print(lr.score(x_test, y_test))"
   ]
  },
  {
   "cell_type": "markdown",
   "id": "4c8a09ad-f664-4462-acf4-ba2ebe688433",
   "metadata": {},
   "source": [
    "It shows model has no overfitting issue."
   ]
  },
  {
   "cell_type": "code",
   "execution_count": 13,
   "id": "e97ae675-b750-4a94-966e-2bc3c1d3f251",
   "metadata": {},
   "outputs": [
    {
     "data": {
      "image/png": "[encoded data removed]",
      "text/plain": [
       "<Figure size 1500x600 with 1 Axes>"
      ]
     },
     "metadata": {},
     "output_type": "display_data"
    }
   ],
   "source": [
    "pd.Series(lr.coef_[0], index=x.columns).plot.bar(figsize=(15, 6))\n",
    "plt.xlabel('Variables',size=16)\n",
    "plt.ylabel('Coefficient', size=16)\n",
    "plt.title('Features Importance', size=20)\n",
    "plt.show()"
   ]
  },
  {
   "cell_type": "markdown",
   "id": "d1907403-016e-4586-a6d2-746320c83527",
   "metadata": {},
   "source": [
    "When it comes to feature importance, aside from the insights identified from model 2, it looks like types of flat and the year that the flat was purchased do have certain impact to the HDB resale price.  "
   ]
  },
  {
   "cell_type": "code",
   "execution_count": 14,
   "id": "ac88a854-c9a5-4847-a4c2-4a1cf5cfb4d3",
   "metadata": {},
   "outputs": [
    {
     "data": {
      "image/png": "[encoded data removed]",
      "text/plain": [
       "<Figure size 640x480 with 1 Axes>"
      ]
     },
     "metadata": {},
     "output_type": "display_data"
    }
   ],
   "source": [
    "pred = lr.predict(x_test)\n",
    "residuals = y_test - pred\n",
    "plt.scatter(pred, residuals)\n",
    "plt.xlabel('Predicted price')\n",
    "plt.ylabel('Residual')\n",
    "plt.title('Residual Plot')\n",
    "plt.show()"
   ]
  },
  {
   "cell_type": "markdown",
   "id": "8e20ec28-5b72-4ec1-a7d6-d7e6266c64c5",
   "metadata": {},
   "source": [
    "No visible pattern can be identified from the above residual plot, indicating the model is capturing most of the information."
   ]
  },
  {
   "cell_type": "code",
   "execution_count": 15,
   "id": "69d3da4d-e477-49c9-b3fe-157ad2abbb7b",
   "metadata": {},
   "outputs": [
    {
     "data": {
      "text/plain": [
       "50556.92603036768"
      ]
     },
     "execution_count": 15,
     "metadata": {},
     "output_type": "execute_result"
    }
   ],
   "source": [
    "mean_squared_error(y_test, pred, squared=False)"
   ]
  },
  {
   "cell_type": "markdown",
   "id": "978c4146-7cbe-4725-9328-5ee386a69fcb",
   "metadata": {},
   "source": [
    "A RMSE of about 51k, which is about 16% lower from model 1 (61k), decent improvement."
   ]
  },
  {
   "cell_type": "markdown",
   "id": "4faaf8c7-9854-4dc4-b782-3479fd6b49ba",
   "metadata": {},
   "source": [
    "I would like to bring back the point being made previously, where I do not agree with adding \"year\" as a feature.  \n",
    "\"Year\" feature in itself is a time-series, if it was added as a continuous variable, we assumed that the HDB resale price has a relationship with year. For instance, a coefficient of 20k would simply mean as every year gone by, the HDB resale price would increase by 20k.  \n",
    "It is a reasonable assumption, where the property prices would \"always\" go up, but it is not the most sensible assumption when we consider macroeconomics factors, such as recessionary period or hyperinflation period.  \n",
    "\n",
    "Alternatively, I added the \"year\" feature as a categorical value through OHE. This eliminate the linear relationship that the \"year\" feature could have. However, this reduces the forecasting capability of the model. Evidently, when it comes to \"year\" value that is not in one of the years in the dataset (e.g. 2035), the model would be deemed as obsolete, or completely useless.   \n",
    "\n",
    "In conclusion, model 3 is merely an attempt to improve the R2 and RMSE in the regression model. It does not necessarily offer the most practical usage in a production environment. This is mainly due to how the model is treating the \"tranc_year\" data. "
   ]
  },
  {
   "cell_type": "code",
   "execution_count": 16,
   "id": "4f936fae-a786-43cb-9cc6-c43ad6900234",
   "metadata": {},
   "outputs": [],
   "source": [
    "# Export features and coefficient for business case analysis\n",
    "\n",
    "features = pd.DataFrame(x.columns)\n",
    "coef = pd.DataFrame(lr.coef_)\n",
    "coef = coef.T\n",
    "features_coef = pd.merge(features, coef, left_index=True, right_index=True)\n",
    "features_coef.rename(columns = {'0_x':'features', '0_y':'coefficient'}, inplace=True)\n",
    "features_coef.to_csv('./data/features.csv')"
   ]
  },
  {
   "cell_type": "markdown",
   "id": "c9fb3a89-e8cb-4f7e-bd45-7e7f1af13ec3",
   "metadata": {},
   "source": [
    "#### Kaggle Submission"
   ]
  },
  {
   "cell_type": "code",
   "execution_count": 17,
   "id": "6fe7f3f7-8c3e-452a-8ce0-ab90bae86afa",
   "metadata": {},
   "outputs": [
    {
     "name": "stderr",
     "output_type": "stream",
     "text": [
      "C:\\Users\\heziy\\AppData\\Local\\Temp\\ipykernel_7620\\1430065199.py:1: DtypeWarning: Columns (40) have mixed types. Specify dtype option on import or set low_memory=False.\n",
      "  kaggle_test = pd.read_csv('./data/test.csv')\n"
     ]
    },
    {
     "data": {
      "text/html": [
       "<div>\n",
       "<style scoped>\n",
       "    .dataframe tbody tr th:only-of-type {\n",
       "        vertical-align: middle;\n",
       "    }\n",
       "\n",
       "    .dataframe tbody tr th {\n",
       "        vertical-align: top;\n",
       "    }\n",
       "\n",
       "    .dataframe thead th {\n",
       "        text-align: right;\n",
       "    }\n",
       "</style>\n",
       "<table border=\"1\" class=\"dataframe\">\n",
       "  <thead>\n",
       "    <tr style=\"text-align: right;\">\n",
       "      <th></th>\n",
       "      <th>id</th>\n",
       "      <th>Tranc_YearMonth</th>\n",
       "      <th>town</th>\n",
       "      <th>flat_type</th>\n",
       "      <th>block</th>\n",
       "      <th>street_name</th>\n",
       "      <th>storey_range</th>\n",
       "      <th>floor_area_sqm</th>\n",
       "      <th>flat_model</th>\n",
       "      <th>lease_commence_date</th>\n",
       "      <th>...</th>\n",
       "      <th>vacancy</th>\n",
       "      <th>pri_sch_affiliation</th>\n",
       "      <th>pri_sch_latitude</th>\n",
       "      <th>pri_sch_longitude</th>\n",
       "      <th>sec_sch_nearest_dist</th>\n",
       "      <th>sec_sch_name</th>\n",
       "      <th>cutoff_point</th>\n",
       "      <th>affiliation</th>\n",
       "      <th>sec_sch_latitude</th>\n",
       "      <th>sec_sch_longitude</th>\n",
       "    </tr>\n",
       "  </thead>\n",
       "  <tbody>\n",
       "    <tr>\n",
       "      <th>0</th>\n",
       "      <td>114982</td>\n",
       "      <td>2012-11</td>\n",
       "      <td>YISHUN</td>\n",
       "      <td>4 ROOM</td>\n",
       "      <td>173</td>\n",
       "      <td>YISHUN AVE 7</td>\n",
       "      <td>07 TO 09</td>\n",
       "      <td>84.0</td>\n",
       "      <td>Simplified</td>\n",
       "      <td>1987</td>\n",
       "      <td>...</td>\n",
       "      <td>92</td>\n",
       "      <td>0</td>\n",
       "      <td>1.433681</td>\n",
       "      <td>103.832924</td>\n",
       "      <td>156.322353</td>\n",
       "      <td>Ahmad Ibrahim Secondary School</td>\n",
       "      <td>218</td>\n",
       "      <td>0</td>\n",
       "      <td>1.436235</td>\n",
       "      <td>103.829987</td>\n",
       "    </tr>\n",
       "    <tr>\n",
       "      <th>1</th>\n",
       "      <td>95653</td>\n",
       "      <td>2019-08</td>\n",
       "      <td>JURONG WEST</td>\n",
       "      <td>5 ROOM</td>\n",
       "      <td>986C</td>\n",
       "      <td>JURONG WEST ST 93</td>\n",
       "      <td>04 TO 06</td>\n",
       "      <td>112.0</td>\n",
       "      <td>Premium Apartment</td>\n",
       "      <td>2008</td>\n",
       "      <td>...</td>\n",
       "      <td>45</td>\n",
       "      <td>0</td>\n",
       "      <td>1.339244</td>\n",
       "      <td>103.698896</td>\n",
       "      <td>739.371688</td>\n",
       "      <td>Jurong West Secondary School</td>\n",
       "      <td>199</td>\n",
       "      <td>0</td>\n",
       "      <td>1.335256</td>\n",
       "      <td>103.702098</td>\n",
       "    </tr>\n",
       "    <tr>\n",
       "      <th>2</th>\n",
       "      <td>40303</td>\n",
       "      <td>2013-10</td>\n",
       "      <td>ANG MO KIO</td>\n",
       "      <td>3 ROOM</td>\n",
       "      <td>534</td>\n",
       "      <td>ANG MO KIO AVE 10</td>\n",
       "      <td>07 TO 09</td>\n",
       "      <td>68.0</td>\n",
       "      <td>New Generation</td>\n",
       "      <td>1980</td>\n",
       "      <td>...</td>\n",
       "      <td>36</td>\n",
       "      <td>0</td>\n",
       "      <td>1.371893</td>\n",
       "      <td>103.851811</td>\n",
       "      <td>305.071191</td>\n",
       "      <td>Anderson Secondary School</td>\n",
       "      <td>245</td>\n",
       "      <td>0</td>\n",
       "      <td>1.374242</td>\n",
       "      <td>103.851430</td>\n",
       "    </tr>\n",
       "    <tr>\n",
       "      <th>3</th>\n",
       "      <td>109506</td>\n",
       "      <td>2017-10</td>\n",
       "      <td>WOODLANDS</td>\n",
       "      <td>4 ROOM</td>\n",
       "      <td>29</td>\n",
       "      <td>MARSILING DR</td>\n",
       "      <td>01 TO 03</td>\n",
       "      <td>97.0</td>\n",
       "      <td>New Generation</td>\n",
       "      <td>1979</td>\n",
       "      <td>...</td>\n",
       "      <td>54</td>\n",
       "      <td>0</td>\n",
       "      <td>1.434423</td>\n",
       "      <td>103.773698</td>\n",
       "      <td>433.454591</td>\n",
       "      <td>Woodlands Secondary School</td>\n",
       "      <td>188</td>\n",
       "      <td>0</td>\n",
       "      <td>1.439183</td>\n",
       "      <td>103.774499</td>\n",
       "    </tr>\n",
       "    <tr>\n",
       "      <th>4</th>\n",
       "      <td>100149</td>\n",
       "      <td>2016-08</td>\n",
       "      <td>BUKIT BATOK</td>\n",
       "      <td>4 ROOM</td>\n",
       "      <td>170</td>\n",
       "      <td>BT BATOK WEST AVE 8</td>\n",
       "      <td>16 TO 18</td>\n",
       "      <td>103.0</td>\n",
       "      <td>Model A</td>\n",
       "      <td>1985</td>\n",
       "      <td>...</td>\n",
       "      <td>40</td>\n",
       "      <td>0</td>\n",
       "      <td>1.349195</td>\n",
       "      <td>103.741000</td>\n",
       "      <td>217.295361</td>\n",
       "      <td>Bukit Batok Secondary School</td>\n",
       "      <td>223</td>\n",
       "      <td>0</td>\n",
       "      <td>1.348351</td>\n",
       "      <td>103.740873</td>\n",
       "    </tr>\n",
       "  </tbody>\n",
       "</table>\n",
       "<p>5 rows × 76 columns</p>\n",
       "</div>"
      ],
      "text/plain": [
       "       id Tranc_YearMonth         town flat_type block          street_name  \\\n",
       "0  114982         2012-11       YISHUN    4 ROOM   173         YISHUN AVE 7   \n",
       "1   95653         2019-08  JURONG WEST    5 ROOM  986C    JURONG WEST ST 93   \n",
       "2   40303         2013-10   ANG MO KIO    3 ROOM   534    ANG MO KIO AVE 10   \n",
       "3  109506         2017-10    WOODLANDS    4 ROOM    29         MARSILING DR   \n",
       "4  100149         2016-08  BUKIT BATOK    4 ROOM   170  BT BATOK WEST AVE 8   \n",
       "\n",
       "  storey_range  floor_area_sqm         flat_model  lease_commence_date  ...  \\\n",
       "0     07 TO 09            84.0         Simplified                 1987  ...   \n",
       "1     04 TO 06           112.0  Premium Apartment                 2008  ...   \n",
       "2     07 TO 09            68.0     New Generation                 1980  ...   \n",
       "3     01 TO 03            97.0     New Generation                 1979  ...   \n",
       "4     16 TO 18           103.0            Model A                 1985  ...   \n",
       "\n",
       "   vacancy  pri_sch_affiliation  pri_sch_latitude  pri_sch_longitude  \\\n",
       "0       92                    0          1.433681         103.832924   \n",
       "1       45                    0          1.339244         103.698896   \n",
       "2       36                    0          1.371893         103.851811   \n",
       "3       54                    0          1.434423         103.773698   \n",
       "4       40                    0          1.349195         103.741000   \n",
       "\n",
       "   sec_sch_nearest_dist                    sec_sch_name cutoff_point  \\\n",
       "0            156.322353  Ahmad Ibrahim Secondary School          218   \n",
       "1            739.371688    Jurong West Secondary School          199   \n",
       "2            305.071191       Anderson Secondary School          245   \n",
       "3            433.454591      Woodlands Secondary School          188   \n",
       "4            217.295361    Bukit Batok Secondary School          223   \n",
       "\n",
       "  affiliation  sec_sch_latitude  sec_sch_longitude  \n",
       "0           0          1.436235         103.829987  \n",
       "1           0          1.335256         103.702098  \n",
       "2           0          1.374242         103.851430  \n",
       "3           0          1.439183         103.774499  \n",
       "4           0          1.348351         103.740873  \n",
       "\n",
       "[5 rows x 76 columns]"
      ]
     },
     "execution_count": 17,
     "metadata": {},
     "output_type": "execute_result"
    }
   ],
   "source": [
    "kaggle_test = pd.read_csv('./data/test.csv')\n",
    "kaggle_test.head()"
   ]
  },
  {
   "cell_type": "code",
   "execution_count": 18,
   "id": "e76a1eeb-6178-4ee3-a138-f585ba61ac61",
   "metadata": {},
   "outputs": [],
   "source": [
    "kaggle_test = kaggle_test[['id','floor_area_sqm','max_floor_lvl', 'mid', 'hdb_age','planning_area','flat_type','Tranc_Year', \n",
    "             'total_dwelling_units', 'mrt_nearest_distance', \n",
    "             'Hawker_Within_2km']]\n",
    "kaggle_test = pd.get_dummies(kaggle_test, columns=['planning_area','flat_type','Tranc_Year'], drop_first=True)"
   ]
  },
  {
   "cell_type": "code",
   "execution_count": 19,
   "id": "ab6e975c-3ec3-450e-9ed3-fddfbc9c0550",
   "metadata": {},
   "outputs": [
    {
     "data": {
      "text/plain": [
       "id                                          0\n",
       "floor_area_sqm                              0\n",
       "max_floor_lvl                               0\n",
       "mid                                         0\n",
       "hdb_age                                     0\n",
       "total_dwelling_units                        0\n",
       "mrt_nearest_distance                        0\n",
       "Hawker_Within_2km                        3254\n",
       "planning_area_Bedok                         0\n",
       "planning_area_Bishan                        0\n",
       "planning_area_Bukit Batok                   0\n",
       "planning_area_Bukit Merah                   0\n",
       "planning_area_Bukit Panjang                 0\n",
       "planning_area_Bukit Timah                   0\n",
       "planning_area_Changi                        0\n",
       "planning_area_Choa Chu Kang                 0\n",
       "planning_area_Clementi                      0\n",
       "planning_area_Downtown Core                 0\n",
       "planning_area_Geylang                       0\n",
       "planning_area_Hougang                       0\n",
       "planning_area_Jurong East                   0\n",
       "planning_area_Jurong West                   0\n",
       "planning_area_Kallang                       0\n",
       "planning_area_Marine Parade                 0\n",
       "planning_area_Novena                        0\n",
       "planning_area_Outram                        0\n",
       "planning_area_Pasir Ris                     0\n",
       "planning_area_Punggol                       0\n",
       "planning_area_Queenstown                    0\n",
       "planning_area_Rochor                        0\n",
       "planning_area_Sembawang                     0\n",
       "planning_area_Sengkang                      0\n",
       "planning_area_Serangoon                     0\n",
       "planning_area_Tampines                      0\n",
       "planning_area_Tanglin                       0\n",
       "planning_area_Toa Payoh                     0\n",
       "planning_area_Western Water Catchment       0\n",
       "planning_area_Woodlands                     0\n",
       "planning_area_Yishun                        0\n",
       "flat_type_2 ROOM                            0\n",
       "flat_type_3 ROOM                            0\n",
       "flat_type_4 ROOM                            0\n",
       "flat_type_5 ROOM                            0\n",
       "flat_type_EXECUTIVE                         0\n",
       "flat_type_MULTI-GENERATION                  0\n",
       "Tranc_Year_2013                             0\n",
       "Tranc_Year_2014                             0\n",
       "Tranc_Year_2015                             0\n",
       "Tranc_Year_2016                             0\n",
       "Tranc_Year_2017                             0\n",
       "Tranc_Year_2018                             0\n",
       "Tranc_Year_2019                             0\n",
       "Tranc_Year_2020                             0\n",
       "Tranc_Year_2021                             0\n",
       "dtype: int64"
      ]
     },
     "execution_count": 19,
     "metadata": {},
     "output_type": "execute_result"
    }
   ],
   "source": [
    "kaggle_test.isnull().sum()"
   ]
  },
  {
   "cell_type": "code",
   "execution_count": 20,
   "id": "f90ad013-da12-40fc-9b10-097d5ce0d924",
   "metadata": {},
   "outputs": [],
   "source": [
    "# fill in NaN value as 0, indicating no mall/hawker within the set distance\n",
    "# This is following the same method in initial data cleaning of the training set\n",
    "\n",
    "kaggle_test['Hawker_Within_2km'] = kaggle_test['Hawker_Within_2km'].fillna(0)"
   ]
  },
  {
   "cell_type": "code",
   "execution_count": 21,
   "id": "61682eae-a28e-44d8-be0d-a3c3e5bd03ee",
   "metadata": {},
   "outputs": [],
   "source": [
    "kaggle_sub = kaggle_test[['id']]\n",
    "kaggle_test = kaggle_test.drop('id', axis=1)\n",
    "kaggle_test = ss.transform(kaggle_test)"
   ]
  },
  {
   "cell_type": "code",
   "execution_count": 22,
   "id": "cef5c116-f691-4c20-814b-03460a3115af",
   "metadata": {},
   "outputs": [],
   "source": [
    "kaggle_sub['predicted'] = lr.predict(kaggle_test)"
   ]
  },
  {
   "cell_type": "code",
   "execution_count": 23,
   "id": "f9b72a80-f47d-45af-bd16-81be790566f3",
   "metadata": {},
   "outputs": [
    {
     "data": {
      "text/html": [
       "<div>\n",
       "<style scoped>\n",
       "    .dataframe tbody tr th:only-of-type {\n",
       "        vertical-align: middle;\n",
       "    }\n",
       "\n",
       "    .dataframe tbody tr th {\n",
       "        vertical-align: top;\n",
       "    }\n",
       "\n",
       "    .dataframe thead th {\n",
       "        text-align: right;\n",
       "    }\n",
       "</style>\n",
       "<table border=\"1\" class=\"dataframe\">\n",
       "  <thead>\n",
       "    <tr style=\"text-align: right;\">\n",
       "      <th></th>\n",
       "      <th>predicted</th>\n",
       "    </tr>\n",
       "    <tr>\n",
       "      <th>id</th>\n",
       "      <th></th>\n",
       "    </tr>\n",
       "  </thead>\n",
       "  <tbody>\n",
       "    <tr>\n",
       "      <th>114982</th>\n",
       "      <td>365426.570033</td>\n",
       "    </tr>\n",
       "    <tr>\n",
       "      <th>95653</th>\n",
       "      <td>494324.061670</td>\n",
       "    </tr>\n",
       "    <tr>\n",
       "      <th>40303</th>\n",
       "      <td>389750.320679</td>\n",
       "    </tr>\n",
       "    <tr>\n",
       "      <th>109506</th>\n",
       "      <td>244518.564034</td>\n",
       "    </tr>\n",
       "    <tr>\n",
       "      <th>100149</th>\n",
       "      <td>472524.710394</td>\n",
       "    </tr>\n",
       "  </tbody>\n",
       "</table>\n",
       "</div>"
      ],
      "text/plain": [
       "            predicted\n",
       "id                   \n",
       "114982  365426.570033\n",
       "95653   494324.061670\n",
       "40303   389750.320679\n",
       "109506  244518.564034\n",
       "100149  472524.710394"
      ]
     },
     "execution_count": 23,
     "metadata": {},
     "output_type": "execute_result"
    }
   ],
   "source": [
    "kaggle_sub = kaggle_sub.set_index(['id'])\n",
    "kaggle_sub.head()"
   ]
  },
  {
   "cell_type": "code",
   "execution_count": 24,
   "id": "d7151ce5-93d6-4a53-8883-dc72e14e6ef5",
   "metadata": {},
   "outputs": [],
   "source": [
    "kaggle_sub.to_csv('./data/kaggle_sub2.csv')"
   ]
  },
  {
   "cell_type": "code",
   "execution_count": null,
   "id": "4b2afdf6-9bc7-4efd-b041-6a62d212e635",
   "metadata": {},
   "outputs": [],
   "source": []
  }
 ],
 "metadata": {
  "kernelspec": {
   "display_name": "Python 3 (ipykernel)",
   "language": "python",
   "name": "python3"
  },
  "language_info": {
   "codemirror_mode": {
    "name": "ipython",
    "version": 3
   },
   "file_extension": ".py",
   "mimetype": "text/x-python",
   "name": "python",
   "nbconvert_exporter": "python",
   "pygments_lexer": "ipython3",
   "version": "3.10.13"
  }
 },
 "nbformat": 4,
 "nbformat_minor": 5
}

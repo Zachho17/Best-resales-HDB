{
 "cells": [
  {
   "cell_type": "code",
   "execution_count": 1,
   "id": "76e4870e-690b-461e-8c74-f33fdf1c838d",
   "metadata": {},
   "outputs": [
    {
     "name": "stderr",
     "output_type": "stream",
     "text": [
      "C:\\Users\\heziy\\AppData\\Local\\Temp\\ipykernel_10904\\812763184.py:7: DtypeWarning: Columns (41) have mixed types. Specify dtype option on import or set low_memory=False.\n",
      "  raw_data = pd.read_csv('./data/train.csv')\n"
     ]
    },
    {
     "data": {
      "text/plain": [
       "(150634, 77)"
      ]
     },
     "execution_count": 1,
     "metadata": {},
     "output_type": "execute_result"
    }
   ],
   "source": [
    "import pandas as pd # load the libraries\n",
    "import numpy as np\n",
    "\n",
    "pd.set_option('display.max_columns', 100) # set the display for better viewing\n",
    "pd.set_option('display.max_rows', 100)\n",
    "\n",
    "raw_data = pd.read_csv('./data/train.csv') # load the data\n",
    "raw_data.shape"
   ]
  },
  {
   "cell_type": "code",
   "execution_count": 2,
   "id": "a988efe9-e68c-4519-a7ae-4a154c88340b",
   "metadata": {},
   "outputs": [
    {
     "data": {
      "text/plain": [
       "True    150634\n",
       "Name: check, dtype: int64"
      ]
     },
     "execution_count": 2,
     "metadata": {},
     "output_type": "execute_result"
    }
   ],
   "source": [
    "# create duplicate column for data verification\n",
    "raw_data['test_date'] = pd.to_datetime(raw_data['Tranc_YearMonth'])\n",
    "\n",
    "# Verify year data\n",
    "raw_data['check'] = raw_data['test_date'].dt.year == raw_data['Tranc_Year']\n",
    "raw_data['check'].value_counts()"
   ]
  },
  {
   "cell_type": "code",
   "execution_count": 3,
   "id": "1bf9925e-dcbc-4966-b1ad-0687a30c52c6",
   "metadata": {},
   "outputs": [
    {
     "data": {
      "text/plain": [
       "True    150634\n",
       "Name: check, dtype: int64"
      ]
     },
     "execution_count": 3,
     "metadata": {},
     "output_type": "execute_result"
    }
   ],
   "source": [
    "# Verify month data point\n",
    "raw_data['check'] = raw_data['test_date'].dt.month == raw_data['Tranc_Month']\n",
    "raw_data['check'].value_counts()"
   ]
  },
  {
   "cell_type": "code",
   "execution_count": 4,
   "id": "81a71b4e-6d5b-40ac-b40c-a3dedf057b94",
   "metadata": {},
   "outputs": [
    {
     "data": {
      "text/plain": [
       "(150634, 76)"
      ]
     },
     "execution_count": 4,
     "metadata": {},
     "output_type": "execute_result"
    }
   ],
   "source": [
    "# remove columns \"Tranc_YearMonth\" and dummy columns as it has been verified that they display correct information\n",
    "raw_data.drop(['Tranc_YearMonth','check','test_date'], axis=1, inplace=True)\n",
    "raw_data.shape"
   ]
  },
  {
   "cell_type": "code",
   "execution_count": 5,
   "id": "381e3771-1734-463a-8afb-d5c94da3d317",
   "metadata": {},
   "outputs": [
    {
     "data": {
      "text/plain": [
       "(150634, 68)"
      ]
     },
     "execution_count": 5,
     "metadata": {},
     "output_type": "execute_result"
    }
   ],
   "source": [
    "# we will use \"planning area\" for location analysis, so we will remove columns that are irrevelant\n",
    "# column residential also removed as all data here are considered residential, offering no value\n",
    "raw_data.drop(['town','block','street_name','address','postal','Latitude', 'Longitude','residential'], axis=1, inplace=True)\n",
    "raw_data.shape"
   ]
  },
  {
   "cell_type": "code",
   "execution_count": 6,
   "id": "58c9d30a-cfe1-4ad3-b603-e6908e62c834",
   "metadata": {},
   "outputs": [
    {
     "data": {
      "text/plain": [
       "True    150634\n",
       "Name: test, dtype: int64"
      ]
     },
     "execution_count": 6,
     "metadata": {},
     "output_type": "execute_result"
    }
   ],
   "source": [
    "# verify if mid_storey is the same as mid\n",
    "raw_data['test'] = raw_data['mid_storey'] == raw_data['mid']\n",
    "raw_data['test'].value_counts()"
   ]
  },
  {
   "cell_type": "code",
   "execution_count": 7,
   "id": "cb3d1287-6929-4ec5-ace7-97568b704b27",
   "metadata": {},
   "outputs": [
    {
     "data": {
      "text/plain": [
       "(150634, 61)"
      ]
     },
     "execution_count": 7,
     "metadata": {},
     "output_type": "execute_result"
    }
   ],
   "source": [
    "# remove columns 'mid_storey', as well as MRT and bus stop related information, leaving the nearest distance to the bus/mrt\n",
    "raw_data.drop(['test','mid_storey',\n",
    "               'mrt_name','mrt_latitude','mrt_longitude',\n",
    "               'bus_stop_name', 'bus_stop_latitude','bus_stop_longitude'], axis=1, inplace=True)\n",
    "raw_data.shape"
   ]
  },
  {
   "cell_type": "code",
   "execution_count": 8,
   "id": "e52c661c-2b34-4100-bd73-635380938013",
   "metadata": {},
   "outputs": [
    {
     "data": {
      "text/plain": [
       "(150634, 60)"
      ]
     },
     "execution_count": 8,
     "metadata": {},
     "output_type": "execute_result"
    }
   ],
   "source": [
    "# use floor_area_sqm, remove floor_area_sqft\n",
    "raw_data.drop(['floor_area_sqft'], axis=1, inplace=True)\n",
    "raw_data.shape"
   ]
  },
  {
   "cell_type": "code",
   "execution_count": 9,
   "id": "408d6e69-03a5-4cde-8d4a-37e70c1edd8a",
   "metadata": {},
   "outputs": [
    {
     "data": {
      "text/plain": [
       "(150634, 58)"
      ]
     },
     "execution_count": 9,
     "metadata": {},
     "output_type": "execute_result"
    }
   ],
   "source": [
    "# removing columns flat_model and full_flat_type as I intend to focus on flat_type for the analysis\n",
    "raw_data.drop(['flat_model','full_flat_type'], axis=1, inplace=True)\n",
    "raw_data.shape"
   ]
  },
  {
   "cell_type": "code",
   "execution_count": 10,
   "id": "a4031709-0e1d-4b12-81c4-57208a4cc61f",
   "metadata": {},
   "outputs": [
    {
     "data": {
      "text/plain": [
       "-10       16\n",
       "-9        18\n",
       "-6        12\n",
       "-3         9\n",
       "-1       430\n",
       " 0     19931\n",
       " 1     76255\n",
       " 2     43586\n",
       " 3      3339\n",
       " 4       414\n",
       " 5       918\n",
       " 6      1463\n",
       " 7      1208\n",
       " 8       572\n",
       " 9       891\n",
       " 10      312\n",
       " 11      497\n",
       " 12       63\n",
       " 13      293\n",
       " 14       19\n",
       " 15       22\n",
       " 16       21\n",
       " 17      108\n",
       " 18       26\n",
       " 20       68\n",
       " 21       19\n",
       " 24      114\n",
       " 25       10\n",
       "Name: diff, dtype: int64"
      ]
     },
     "execution_count": 10,
     "metadata": {},
     "output_type": "execute_result"
    }
   ],
   "source": [
    "raw_data['diff'] = raw_data['lease_commence_date'] - raw_data['year_completed']\n",
    "raw_data['diff'].value_counts().sort_index()"
   ]
  },
  {
   "cell_type": "code",
   "execution_count": 11,
   "id": "78cbf79d-d6c2-4d8b-b044-c4a382d7b432",
   "metadata": {},
   "outputs": [
    {
     "data": {
      "text/plain": [
       "(150634, 56)"
      ]
     },
     "execution_count": 11,
     "metadata": {},
     "output_type": "execute_result"
    }
   ],
   "source": [
    "# it surprises me that some of the flats have a lease commencement date that is earlier than year completion\n",
    "# from the data it looks like these flats tend to have both residential and commercial as \"Y\"\n",
    "# It might be possible for the lease for commercial units to start (those ground floor shop houses) before the completion of the entire block\n",
    "# However, in this project, I believe it is sufficient to focus on hdb_age as the determining factor for tenor of the HDB\n",
    "# Thus removing columns lease_commence_date and year_completed\n",
    "\n",
    "raw_data.drop(['lease_commence_date','year_completed', 'diff'], axis=1, inplace=True)\n",
    "raw_data.shape"
   ]
  },
  {
   "cell_type": "code",
   "execution_count": 12,
   "id": "5448f297-5fae-43d7-8339-f194b5f684b7",
   "metadata": {},
   "outputs": [
    {
     "data": {
      "text/plain": [
       "(150634, 52)"
      ]
     },
     "execution_count": 12,
     "metadata": {},
     "output_type": "execute_result"
    }
   ],
   "source": [
    "# remove schools coordinates information\n",
    "raw_data.drop(['pri_sch_latitude','pri_sch_longitude',\n",
    "               'sec_sch_latitude','sec_sch_longitude',\n",
    "               ], axis=1, inplace=True)\n",
    "raw_data.shape"
   ]
  },
  {
   "cell_type": "code",
   "execution_count": 13,
   "id": "7dd79beb-8d92-4d44-b672-a4145fb80e21",
   "metadata": {},
   "outputs": [],
   "source": [
    "# convert boolean value to 1 and 0\n",
    "for col in raw_data.columns[12:16]:\n",
    "    raw_data[col] = raw_data[col].map({'Y':1, 'N':0})\n"
   ]
  },
  {
   "cell_type": "code",
   "execution_count": 14,
   "id": "4f8a2864-96f3-4de6-bd94-5f9e0d9de76f",
   "metadata": {},
   "outputs": [],
   "source": [
    "# fill in NaN value as 0, indicating no mall/hawker within the set distance\n",
    "columns = ['Mall_Within_500m', 'Mall_Within_1km', 'Mall_Within_2km',\n",
    "           'Hawker_Within_500m', 'Hawker_Within_1km', 'Hawker_Within_2km']\n",
    "for col in columns:\n",
    "    raw_data[col] = raw_data[col].fillna(0)"
   ]
  },
  {
   "cell_type": "code",
   "execution_count": 15,
   "id": "880b91f8-27d6-40e4-bb4e-21d92325db3b",
   "metadata": {},
   "outputs": [
    {
     "data": {
      "text/plain": [
       "array(['10 TO 12', '07 TO 09', '13 TO 15', '01 TO 05', '01 TO 03',\n",
       "       '06 TO 10', '28 TO 30', '19 TO 21', '04 TO 06', '16 TO 18',\n",
       "       '22 TO 24', '16 TO 20', '34 TO 36', '25 TO 27', '11 TO 15',\n",
       "       '37 TO 39', '31 TO 33', '43 TO 45', '40 TO 42', '21 TO 25',\n",
       "       '49 TO 51', '46 TO 48', '26 TO 30', '36 TO 40', '31 TO 35'],\n",
       "      dtype=object)"
      ]
     },
     "execution_count": 15,
     "metadata": {},
     "output_type": "execute_result"
    }
   ],
   "source": [
    "raw_data['storey_range'].unique()"
   ]
  },
  {
   "cell_type": "code",
   "execution_count": 16,
   "id": "70ec8be7-4341-4a5a-8519-3b1cbe77929b",
   "metadata": {},
   "outputs": [
    {
     "data": {
      "text/plain": [
       "(150634, 49)"
      ]
     },
     "execution_count": 16,
     "metadata": {},
     "output_type": "execute_result"
    }
   ],
   "source": [
    "# we can use mid of the storey range as an approximate to which level the unit is located\n",
    "# therefore, we can keep the mid column, and drop lower, upper and storey_range\n",
    "raw_data.drop(['storey_range','lower', 'upper'], axis=1, inplace=True)\n",
    "raw_data.shape"
   ]
  },
  {
   "cell_type": "code",
   "execution_count": 17,
   "id": "c0e92bdd-b3ef-44ca-9a99-3c75cabc997c",
   "metadata": {},
   "outputs": [
    {
     "data": {
      "text/plain": [
       "(150634, 39)"
      ]
     },
     "execution_count": 17,
     "metadata": {},
     "output_type": "execute_result"
    }
   ],
   "source": [
    "# combine columns that indicate number of units sold to the percenrage of total units sold over total units available\n",
    "raw_data['total_unit_sold_%'] = raw_data[raw_data.columns[14:22]].sum(axis=1)*100/raw_data['total_dwelling_units']\n",
    "\n",
    "# combine columns that indicate number of units rented to the percenrage of total units rental over total units available\n",
    "raw_data['total_unit_rental_%'] = raw_data[raw_data.columns[22:26]].sum(axis=1)*100/raw_data['total_dwelling_units']\n",
    "\n",
    "raw_data.drop(raw_data.columns[14:26], axis=1, inplace=True)\n",
    "raw_data.shape"
   ]
  },
  {
   "cell_type": "code",
   "execution_count": 18,
   "id": "5fef9f26-5965-4e5b-a326-20cd1c7a1cef",
   "metadata": {},
   "outputs": [
    {
     "data": {
      "text/plain": [
       "(150634, 37)"
      ]
     },
     "execution_count": 18,
     "metadata": {},
     "output_type": "execute_result"
    }
   ],
   "source": [
    "# going to focus on cutoff_point to determine the \"prestige\" of the school\n",
    "# therefore not going to focus on the name of any schools at this point\n",
    "raw_data.drop(['pri_sch_name','sec_sch_name'], axis=1, inplace=True)\n",
    "raw_data.shape"
   ]
  },
  {
   "cell_type": "code",
   "execution_count": 19,
   "id": "c4c30960-cf15-4708-b4b7-b1fc6d99a1d6",
   "metadata": {},
   "outputs": [
    {
     "data": {
      "text/plain": [
       "829"
      ]
     },
     "execution_count": 19,
     "metadata": {},
     "output_type": "execute_result"
    }
   ],
   "source": [
    "raw_data['Mall_Nearest_Distance'].isnull().sum()"
   ]
  },
  {
   "cell_type": "code",
   "execution_count": 20,
   "id": "d3e561fb-275a-4ec2-a40c-2a007122cc1c",
   "metadata": {},
   "outputs": [],
   "source": [
    "# 829 / 150634 = 0.55%, unlikely to be significant, remove\n",
    "cleaned_data = raw_data.dropna()"
   ]
  },
  {
   "cell_type": "code",
   "execution_count": 21,
   "id": "9dfc088a-e460-43a3-b9a6-3119ad7c3513",
   "metadata": {},
   "outputs": [
    {
     "data": {
      "text/html": [
       "<div>\n",
       "<style scoped>\n",
       "    .dataframe tbody tr th:only-of-type {\n",
       "        vertical-align: middle;\n",
       "    }\n",
       "\n",
       "    .dataframe tbody tr th {\n",
       "        vertical-align: top;\n",
       "    }\n",
       "\n",
       "    .dataframe thead th {\n",
       "        text-align: right;\n",
       "    }\n",
       "</style>\n",
       "<table border=\"1\" class=\"dataframe\">\n",
       "  <thead>\n",
       "    <tr style=\"text-align: right;\">\n",
       "      <th></th>\n",
       "      <th>id</th>\n",
       "      <th>flat_type</th>\n",
       "      <th>floor_area_sqm</th>\n",
       "      <th>resale_price</th>\n",
       "      <th>Tranc_Year</th>\n",
       "      <th>Tranc_Month</th>\n",
       "      <th>mid</th>\n",
       "      <th>hdb_age</th>\n",
       "      <th>max_floor_lvl</th>\n",
       "      <th>commercial</th>\n",
       "      <th>market_hawker</th>\n",
       "      <th>multistorey_carpark</th>\n",
       "      <th>precinct_pavilion</th>\n",
       "      <th>total_dwelling_units</th>\n",
       "      <th>planning_area</th>\n",
       "      <th>Mall_Nearest_Distance</th>\n",
       "      <th>Mall_Within_500m</th>\n",
       "      <th>Mall_Within_1km</th>\n",
       "      <th>Mall_Within_2km</th>\n",
       "      <th>Hawker_Nearest_Distance</th>\n",
       "      <th>Hawker_Within_500m</th>\n",
       "      <th>Hawker_Within_1km</th>\n",
       "      <th>Hawker_Within_2km</th>\n",
       "      <th>hawker_food_stalls</th>\n",
       "      <th>hawker_market_stalls</th>\n",
       "      <th>mrt_nearest_distance</th>\n",
       "      <th>bus_interchange</th>\n",
       "      <th>mrt_interchange</th>\n",
       "      <th>bus_stop_nearest_distance</th>\n",
       "      <th>pri_sch_nearest_distance</th>\n",
       "      <th>vacancy</th>\n",
       "      <th>pri_sch_affiliation</th>\n",
       "      <th>sec_sch_nearest_dist</th>\n",
       "      <th>cutoff_point</th>\n",
       "      <th>affiliation</th>\n",
       "      <th>total_unit_sold_%</th>\n",
       "      <th>total_unit_rental_%</th>\n",
       "    </tr>\n",
       "  </thead>\n",
       "  <tbody>\n",
       "    <tr>\n",
       "      <th>0</th>\n",
       "      <td>88471</td>\n",
       "      <td>4 ROOM</td>\n",
       "      <td>90.0</td>\n",
       "      <td>680000.0</td>\n",
       "      <td>2016</td>\n",
       "      <td>5</td>\n",
       "      <td>11</td>\n",
       "      <td>15</td>\n",
       "      <td>25</td>\n",
       "      <td>0</td>\n",
       "      <td>0</td>\n",
       "      <td>0</td>\n",
       "      <td>0</td>\n",
       "      <td>142</td>\n",
       "      <td>Kallang</td>\n",
       "      <td>1094.090418</td>\n",
       "      <td>0.0</td>\n",
       "      <td>0.0</td>\n",
       "      <td>7.0</td>\n",
       "      <td>154.753357</td>\n",
       "      <td>1.0</td>\n",
       "      <td>3.0</td>\n",
       "      <td>13.0</td>\n",
       "      <td>84</td>\n",
       "      <td>60</td>\n",
       "      <td>330.083069</td>\n",
       "      <td>0</td>\n",
       "      <td>0</td>\n",
       "      <td>29.427395</td>\n",
       "      <td>1138.633422</td>\n",
       "      <td>78</td>\n",
       "      <td>1</td>\n",
       "      <td>1138.633422</td>\n",
       "      <td>224</td>\n",
       "      <td>0</td>\n",
       "      <td>100.0</td>\n",
       "      <td>0.0</td>\n",
       "    </tr>\n",
       "    <tr>\n",
       "      <th>1</th>\n",
       "      <td>122598</td>\n",
       "      <td>5 ROOM</td>\n",
       "      <td>130.0</td>\n",
       "      <td>665000.0</td>\n",
       "      <td>2012</td>\n",
       "      <td>7</td>\n",
       "      <td>8</td>\n",
       "      <td>34</td>\n",
       "      <td>9</td>\n",
       "      <td>0</td>\n",
       "      <td>0</td>\n",
       "      <td>0</td>\n",
       "      <td>0</td>\n",
       "      <td>112</td>\n",
       "      <td>Bishan</td>\n",
       "      <td>866.941448</td>\n",
       "      <td>0.0</td>\n",
       "      <td>1.0</td>\n",
       "      <td>3.0</td>\n",
       "      <td>640.151925</td>\n",
       "      <td>0.0</td>\n",
       "      <td>1.0</td>\n",
       "      <td>7.0</td>\n",
       "      <td>80</td>\n",
       "      <td>77</td>\n",
       "      <td>903.659703</td>\n",
       "      <td>1</td>\n",
       "      <td>1</td>\n",
       "      <td>58.207761</td>\n",
       "      <td>415.607357</td>\n",
       "      <td>45</td>\n",
       "      <td>1</td>\n",
       "      <td>447.894399</td>\n",
       "      <td>232</td>\n",
       "      <td>0</td>\n",
       "      <td>100.0</td>\n",
       "      <td>0.0</td>\n",
       "    </tr>\n",
       "    <tr>\n",
       "      <th>2</th>\n",
       "      <td>170897</td>\n",
       "      <td>EXECUTIVE</td>\n",
       "      <td>144.0</td>\n",
       "      <td>838000.0</td>\n",
       "      <td>2013</td>\n",
       "      <td>7</td>\n",
       "      <td>14</td>\n",
       "      <td>24</td>\n",
       "      <td>16</td>\n",
       "      <td>0</td>\n",
       "      <td>0</td>\n",
       "      <td>0</td>\n",
       "      <td>0</td>\n",
       "      <td>90</td>\n",
       "      <td>Bukit Batok</td>\n",
       "      <td>1459.579948</td>\n",
       "      <td>0.0</td>\n",
       "      <td>0.0</td>\n",
       "      <td>4.0</td>\n",
       "      <td>1762.082341</td>\n",
       "      <td>0.0</td>\n",
       "      <td>0.0</td>\n",
       "      <td>1.0</td>\n",
       "      <td>84</td>\n",
       "      <td>95</td>\n",
       "      <td>1334.251197</td>\n",
       "      <td>1</td>\n",
       "      <td>0</td>\n",
       "      <td>214.747860</td>\n",
       "      <td>498.849039</td>\n",
       "      <td>39</td>\n",
       "      <td>0</td>\n",
       "      <td>180.074558</td>\n",
       "      <td>188</td>\n",
       "      <td>0</td>\n",
       "      <td>100.0</td>\n",
       "      <td>0.0</td>\n",
       "    </tr>\n",
       "    <tr>\n",
       "      <th>3</th>\n",
       "      <td>86070</td>\n",
       "      <td>4 ROOM</td>\n",
       "      <td>103.0</td>\n",
       "      <td>550000.0</td>\n",
       "      <td>2012</td>\n",
       "      <td>4</td>\n",
       "      <td>3</td>\n",
       "      <td>29</td>\n",
       "      <td>11</td>\n",
       "      <td>1</td>\n",
       "      <td>0</td>\n",
       "      <td>0</td>\n",
       "      <td>0</td>\n",
       "      <td>75</td>\n",
       "      <td>Bishan</td>\n",
       "      <td>950.175199</td>\n",
       "      <td>0.0</td>\n",
       "      <td>1.0</td>\n",
       "      <td>4.0</td>\n",
       "      <td>726.215262</td>\n",
       "      <td>0.0</td>\n",
       "      <td>1.0</td>\n",
       "      <td>9.0</td>\n",
       "      <td>32</td>\n",
       "      <td>86</td>\n",
       "      <td>907.453484</td>\n",
       "      <td>1</td>\n",
       "      <td>1</td>\n",
       "      <td>43.396521</td>\n",
       "      <td>389.515528</td>\n",
       "      <td>20</td>\n",
       "      <td>1</td>\n",
       "      <td>389.515528</td>\n",
       "      <td>253</td>\n",
       "      <td>1</td>\n",
       "      <td>100.0</td>\n",
       "      <td>0.0</td>\n",
       "    </tr>\n",
       "    <tr>\n",
       "      <th>4</th>\n",
       "      <td>153632</td>\n",
       "      <td>4 ROOM</td>\n",
       "      <td>83.0</td>\n",
       "      <td>298000.0</td>\n",
       "      <td>2017</td>\n",
       "      <td>12</td>\n",
       "      <td>2</td>\n",
       "      <td>34</td>\n",
       "      <td>4</td>\n",
       "      <td>0</td>\n",
       "      <td>0</td>\n",
       "      <td>0</td>\n",
       "      <td>0</td>\n",
       "      <td>48</td>\n",
       "      <td>Yishun</td>\n",
       "      <td>729.771895</td>\n",
       "      <td>0.0</td>\n",
       "      <td>1.0</td>\n",
       "      <td>2.0</td>\n",
       "      <td>1540.151439</td>\n",
       "      <td>0.0</td>\n",
       "      <td>0.0</td>\n",
       "      <td>1.0</td>\n",
       "      <td>45</td>\n",
       "      <td>0</td>\n",
       "      <td>412.343032</td>\n",
       "      <td>0</td>\n",
       "      <td>0</td>\n",
       "      <td>129.422752</td>\n",
       "      <td>401.200584</td>\n",
       "      <td>74</td>\n",
       "      <td>0</td>\n",
       "      <td>312.025435</td>\n",
       "      <td>208</td>\n",
       "      <td>0</td>\n",
       "      <td>100.0</td>\n",
       "      <td>0.0</td>\n",
       "    </tr>\n",
       "  </tbody>\n",
       "</table>\n",
       "</div>"
      ],
      "text/plain": [
       "       id  flat_type  floor_area_sqm  resale_price  Tranc_Year  Tranc_Month  \\\n",
       "0   88471     4 ROOM            90.0      680000.0        2016            5   \n",
       "1  122598     5 ROOM           130.0      665000.0        2012            7   \n",
       "2  170897  EXECUTIVE           144.0      838000.0        2013            7   \n",
       "3   86070     4 ROOM           103.0      550000.0        2012            4   \n",
       "4  153632     4 ROOM            83.0      298000.0        2017           12   \n",
       "\n",
       "   mid  hdb_age  max_floor_lvl  commercial  market_hawker  \\\n",
       "0   11       15             25           0              0   \n",
       "1    8       34              9           0              0   \n",
       "2   14       24             16           0              0   \n",
       "3    3       29             11           1              0   \n",
       "4    2       34              4           0              0   \n",
       "\n",
       "   multistorey_carpark  precinct_pavilion  total_dwelling_units planning_area  \\\n",
       "0                    0                  0                   142       Kallang   \n",
       "1                    0                  0                   112        Bishan   \n",
       "2                    0                  0                    90   Bukit Batok   \n",
       "3                    0                  0                    75        Bishan   \n",
       "4                    0                  0                    48        Yishun   \n",
       "\n",
       "   Mall_Nearest_Distance  Mall_Within_500m  Mall_Within_1km  Mall_Within_2km  \\\n",
       "0            1094.090418               0.0              0.0              7.0   \n",
       "1             866.941448               0.0              1.0              3.0   \n",
       "2            1459.579948               0.0              0.0              4.0   \n",
       "3             950.175199               0.0              1.0              4.0   \n",
       "4             729.771895               0.0              1.0              2.0   \n",
       "\n",
       "   Hawker_Nearest_Distance  Hawker_Within_500m  Hawker_Within_1km  \\\n",
       "0               154.753357                 1.0                3.0   \n",
       "1               640.151925                 0.0                1.0   \n",
       "2              1762.082341                 0.0                0.0   \n",
       "3               726.215262                 0.0                1.0   \n",
       "4              1540.151439                 0.0                0.0   \n",
       "\n",
       "   Hawker_Within_2km  hawker_food_stalls  hawker_market_stalls  \\\n",
       "0               13.0                  84                    60   \n",
       "1                7.0                  80                    77   \n",
       "2                1.0                  84                    95   \n",
       "3                9.0                  32                    86   \n",
       "4                1.0                  45                     0   \n",
       "\n",
       "   mrt_nearest_distance  bus_interchange  mrt_interchange  \\\n",
       "0            330.083069                0                0   \n",
       "1            903.659703                1                1   \n",
       "2           1334.251197                1                0   \n",
       "3            907.453484                1                1   \n",
       "4            412.343032                0                0   \n",
       "\n",
       "   bus_stop_nearest_distance  pri_sch_nearest_distance  vacancy  \\\n",
       "0                  29.427395               1138.633422       78   \n",
       "1                  58.207761                415.607357       45   \n",
       "2                 214.747860                498.849039       39   \n",
       "3                  43.396521                389.515528       20   \n",
       "4                 129.422752                401.200584       74   \n",
       "\n",
       "   pri_sch_affiliation  sec_sch_nearest_dist  cutoff_point  affiliation  \\\n",
       "0                    1           1138.633422           224            0   \n",
       "1                    1            447.894399           232            0   \n",
       "2                    0            180.074558           188            0   \n",
       "3                    1            389.515528           253            1   \n",
       "4                    0            312.025435           208            0   \n",
       "\n",
       "   total_unit_sold_%  total_unit_rental_%  \n",
       "0              100.0                  0.0  \n",
       "1              100.0                  0.0  \n",
       "2              100.0                  0.0  \n",
       "3              100.0                  0.0  \n",
       "4              100.0                  0.0  "
      ]
     },
     "execution_count": 21,
     "metadata": {},
     "output_type": "execute_result"
    }
   ],
   "source": [
    "cleaned_data.head()"
   ]
  },
  {
   "cell_type": "code",
   "execution_count": 22,
   "id": "1ba491f6-c87b-48ba-905b-19f9cf8d16ac",
   "metadata": {},
   "outputs": [],
   "source": [
    "cleaned_data.to_csv('./data/cleaned_data.csv')"
   ]
  },
  {
   "cell_type": "code",
   "execution_count": null,
   "id": "01873966-dc1b-46a3-a201-f300edf95665",
   "metadata": {},
   "outputs": [],
   "source": []
  }
 ],
 "metadata": {
  "kernelspec": {
   "display_name": "Python 3 (ipykernel)",
   "language": "python",
   "name": "python3"
  },
  "language_info": {
   "codemirror_mode": {
    "name": "ipython",
    "version": 3
   },
   "file_extension": ".py",
   "mimetype": "text/x-python",
   "name": "python",
   "nbconvert_exporter": "python",
   "pygments_lexer": "ipython3",
   "version": "3.10.13"
  }
 },
 "nbformat": 4,
 "nbformat_minor": 5
}

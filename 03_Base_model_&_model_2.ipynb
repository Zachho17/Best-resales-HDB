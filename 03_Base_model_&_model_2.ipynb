{
 "cells": [
  {
   "cell_type": "code",
   "execution_count": 1,
   "id": "df77715a-55bb-49f3-8c78-95f052275e8e",
   "metadata": {},
   "outputs": [],
   "source": [
    "# import libraries\n",
    "import pandas as pd\n",
    "import numpy as np\n",
    "from sklearn.linear_model import LinearRegression, LassoCV, RidgeCV\n",
    "from sklearn.model_selection import train_test_split, cross_val_score\n",
    "from sklearn.preprocessing import StandardScaler\n",
    "from sklearn.metrics import mean_squared_error\n",
    "import matplotlib.pyplot as plt\n",
    "import statsmodels.api as sm\n"
   ]
  },
  {
   "cell_type": "code",
   "execution_count": 2,
   "id": "14a399cb-54af-4265-80c0-63e146e29042",
   "metadata": {},
   "outputs": [
    {
     "data": {
      "text/html": [
       "<div>\n",
       "<style scoped>\n",
       "    .dataframe tbody tr th:only-of-type {\n",
       "        vertical-align: middle;\n",
       "    }\n",
       "\n",
       "    .dataframe tbody tr th {\n",
       "        vertical-align: top;\n",
       "    }\n",
       "\n",
       "    .dataframe thead th {\n",
       "        text-align: right;\n",
       "    }\n",
       "</style>\n",
       "<table border=\"1\" class=\"dataframe\">\n",
       "  <thead>\n",
       "    <tr style=\"text-align: right;\">\n",
       "      <th></th>\n",
       "      <th>id</th>\n",
       "      <th>flat_type</th>\n",
       "      <th>floor_area_sqm</th>\n",
       "      <th>resale_price</th>\n",
       "      <th>Tranc_Year</th>\n",
       "      <th>Tranc_Month</th>\n",
       "      <th>mid</th>\n",
       "      <th>hdb_age</th>\n",
       "      <th>max_floor_lvl</th>\n",
       "      <th>commercial</th>\n",
       "      <th>...</th>\n",
       "      <th>mrt_interchange</th>\n",
       "      <th>bus_stop_nearest_distance</th>\n",
       "      <th>pri_sch_nearest_distance</th>\n",
       "      <th>vacancy</th>\n",
       "      <th>pri_sch_affiliation</th>\n",
       "      <th>sec_sch_nearest_dist</th>\n",
       "      <th>cutoff_point</th>\n",
       "      <th>affiliation</th>\n",
       "      <th>total_unit_sold_%</th>\n",
       "      <th>total_unit_rental_%</th>\n",
       "    </tr>\n",
       "  </thead>\n",
       "  <tbody>\n",
       "    <tr>\n",
       "      <th>0</th>\n",
       "      <td>88471</td>\n",
       "      <td>4 ROOM</td>\n",
       "      <td>90.0</td>\n",
       "      <td>680000.0</td>\n",
       "      <td>2016</td>\n",
       "      <td>5</td>\n",
       "      <td>11</td>\n",
       "      <td>15</td>\n",
       "      <td>25</td>\n",
       "      <td>0</td>\n",
       "      <td>...</td>\n",
       "      <td>0</td>\n",
       "      <td>29.427395</td>\n",
       "      <td>1138.633422</td>\n",
       "      <td>78</td>\n",
       "      <td>1</td>\n",
       "      <td>1138.633422</td>\n",
       "      <td>224</td>\n",
       "      <td>0</td>\n",
       "      <td>100.0</td>\n",
       "      <td>0.0</td>\n",
       "    </tr>\n",
       "    <tr>\n",
       "      <th>1</th>\n",
       "      <td>122598</td>\n",
       "      <td>5 ROOM</td>\n",
       "      <td>130.0</td>\n",
       "      <td>665000.0</td>\n",
       "      <td>2012</td>\n",
       "      <td>7</td>\n",
       "      <td>8</td>\n",
       "      <td>34</td>\n",
       "      <td>9</td>\n",
       "      <td>0</td>\n",
       "      <td>...</td>\n",
       "      <td>1</td>\n",
       "      <td>58.207761</td>\n",
       "      <td>415.607357</td>\n",
       "      <td>45</td>\n",
       "      <td>1</td>\n",
       "      <td>447.894399</td>\n",
       "      <td>232</td>\n",
       "      <td>0</td>\n",
       "      <td>100.0</td>\n",
       "      <td>0.0</td>\n",
       "    </tr>\n",
       "    <tr>\n",
       "      <th>2</th>\n",
       "      <td>170897</td>\n",
       "      <td>EXECUTIVE</td>\n",
       "      <td>144.0</td>\n",
       "      <td>838000.0</td>\n",
       "      <td>2013</td>\n",
       "      <td>7</td>\n",
       "      <td>14</td>\n",
       "      <td>24</td>\n",
       "      <td>16</td>\n",
       "      <td>0</td>\n",
       "      <td>...</td>\n",
       "      <td>0</td>\n",
       "      <td>214.747860</td>\n",
       "      <td>498.849039</td>\n",
       "      <td>39</td>\n",
       "      <td>0</td>\n",
       "      <td>180.074558</td>\n",
       "      <td>188</td>\n",
       "      <td>0</td>\n",
       "      <td>100.0</td>\n",
       "      <td>0.0</td>\n",
       "    </tr>\n",
       "    <tr>\n",
       "      <th>3</th>\n",
       "      <td>86070</td>\n",
       "      <td>4 ROOM</td>\n",
       "      <td>103.0</td>\n",
       "      <td>550000.0</td>\n",
       "      <td>2012</td>\n",
       "      <td>4</td>\n",
       "      <td>3</td>\n",
       "      <td>29</td>\n",
       "      <td>11</td>\n",
       "      <td>1</td>\n",
       "      <td>...</td>\n",
       "      <td>1</td>\n",
       "      <td>43.396521</td>\n",
       "      <td>389.515528</td>\n",
       "      <td>20</td>\n",
       "      <td>1</td>\n",
       "      <td>389.515528</td>\n",
       "      <td>253</td>\n",
       "      <td>1</td>\n",
       "      <td>100.0</td>\n",
       "      <td>0.0</td>\n",
       "    </tr>\n",
       "    <tr>\n",
       "      <th>4</th>\n",
       "      <td>153632</td>\n",
       "      <td>4 ROOM</td>\n",
       "      <td>83.0</td>\n",
       "      <td>298000.0</td>\n",
       "      <td>2017</td>\n",
       "      <td>12</td>\n",
       "      <td>2</td>\n",
       "      <td>34</td>\n",
       "      <td>4</td>\n",
       "      <td>0</td>\n",
       "      <td>...</td>\n",
       "      <td>0</td>\n",
       "      <td>129.422752</td>\n",
       "      <td>401.200584</td>\n",
       "      <td>74</td>\n",
       "      <td>0</td>\n",
       "      <td>312.025435</td>\n",
       "      <td>208</td>\n",
       "      <td>0</td>\n",
       "      <td>100.0</td>\n",
       "      <td>0.0</td>\n",
       "    </tr>\n",
       "  </tbody>\n",
       "</table>\n",
       "<p>5 rows × 37 columns</p>\n",
       "</div>"
      ],
      "text/plain": [
       "       id  flat_type  floor_area_sqm  resale_price  Tranc_Year  Tranc_Month  \\\n",
       "0   88471     4 ROOM            90.0      680000.0        2016            5   \n",
       "1  122598     5 ROOM           130.0      665000.0        2012            7   \n",
       "2  170897  EXECUTIVE           144.0      838000.0        2013            7   \n",
       "3   86070     4 ROOM           103.0      550000.0        2012            4   \n",
       "4  153632     4 ROOM            83.0      298000.0        2017           12   \n",
       "\n",
       "   mid  hdb_age  max_floor_lvl  commercial  ...  mrt_interchange  \\\n",
       "0   11       15             25           0  ...                0   \n",
       "1    8       34              9           0  ...                1   \n",
       "2   14       24             16           0  ...                0   \n",
       "3    3       29             11           1  ...                1   \n",
       "4    2       34              4           0  ...                0   \n",
       "\n",
       "   bus_stop_nearest_distance  pri_sch_nearest_distance  vacancy  \\\n",
       "0                  29.427395               1138.633422       78   \n",
       "1                  58.207761                415.607357       45   \n",
       "2                 214.747860                498.849039       39   \n",
       "3                  43.396521                389.515528       20   \n",
       "4                 129.422752                401.200584       74   \n",
       "\n",
       "  pri_sch_affiliation  sec_sch_nearest_dist  cutoff_point  affiliation  \\\n",
       "0                   1           1138.633422           224            0   \n",
       "1                   1            447.894399           232            0   \n",
       "2                   0            180.074558           188            0   \n",
       "3                   1            389.515528           253            1   \n",
       "4                   0            312.025435           208            0   \n",
       "\n",
       "   total_unit_sold_%  total_unit_rental_%  \n",
       "0              100.0                  0.0  \n",
       "1              100.0                  0.0  \n",
       "2              100.0                  0.0  \n",
       "3              100.0                  0.0  \n",
       "4              100.0                  0.0  \n",
       "\n",
       "[5 rows x 37 columns]"
      ]
     },
     "execution_count": 2,
     "metadata": {},
     "output_type": "execute_result"
    }
   ],
   "source": [
    "housing = pd.read_csv('./data/cleaned_data.csv')\n",
    "housing.drop('Unnamed: 0', axis=1, inplace=True)\n",
    "housing.head()"
   ]
  },
  {
   "cell_type": "markdown",
   "id": "3906c745-d4ac-40dd-9bf8-5806f23a03ca",
   "metadata": {},
   "source": [
    "### Base Model"
   ]
  },
  {
   "cell_type": "code",
   "execution_count": 3,
   "id": "9310b8b1-4dc4-4a23-9890-01fcd0953b57",
   "metadata": {},
   "outputs": [
    {
     "data": {
      "text/plain": [
       "0.4313035256499605"
      ]
     },
     "execution_count": 3,
     "metadata": {},
     "output_type": "execute_result"
    }
   ],
   "source": [
    "x_base = housing[['floor_area_sqm']]\n",
    "y_base = housing[['resale_price']]\n",
    "\n",
    "lr_base = LinearRegression()\n",
    "cross_val_score(lr_base, x_base, y_base, cv=5).mean()"
   ]
  },
  {
   "cell_type": "markdown",
   "id": "6941f22b-c377-4a50-a602-7af21bf05da6",
   "metadata": {},
   "source": [
    "Above we have a base R2 score of about 43%. Subsequent models would be measured against this score as how well the model be able to explain the variance in the data."
   ]
  },
  {
   "cell_type": "markdown",
   "id": "ba53e9b8-aab5-4447-84e9-bfcab6f785ae",
   "metadata": {},
   "source": [
    "#### Features Selection and Data Split"
   ]
  },
  {
   "cell_type": "code",
   "execution_count": 4,
   "id": "37e9e444-2aa2-4a47-aa3c-515bff6107b3",
   "metadata": {},
   "outputs": [],
   "source": [
    "x = housing[['floor_area_sqm','max_floor_lvl', 'mid', 'hdb_age','planning_area']]\n",
    "y = housing[['resale_price']]\n",
    "\n",
    "x = pd.get_dummies(x, columns=['planning_area'], drop_first=True)\n",
    "\n",
    "x_train, x_test, y_train, y_test = train_test_split(x, y, random_state=86)"
   ]
  },
  {
   "cell_type": "markdown",
   "id": "89b968f0-5b52-48e6-aa42-356d6ffbe974",
   "metadata": {},
   "source": [
    "#### Verify statistical significance"
   ]
  },
  {
   "cell_type": "code",
   "execution_count": 5,
   "id": "74d4a4bf-0a51-410d-9d9e-d76a6b91bbb7",
   "metadata": {},
   "outputs": [
    {
     "name": "stdout",
     "output_type": "stream",
     "text": [
      "                                 OLS Regression Results                                \n",
      "=======================================================================================\n",
      "Dep. Variable:           resale_price   R-squared (uncentered):                   0.983\n",
      "Model:                            OLS   Adj. R-squared (uncentered):              0.983\n",
      "Method:                 Least Squares   F-statistic:                          1.822e+05\n",
      "Date:                Sat, 02 Mar 2024   Prob (F-statistic):                        0.00\n",
      "Time:                        17:30:35   Log-Likelihood:                     -1.3992e+06\n",
      "No. Observations:              112353   AIC:                                  2.799e+06\n",
      "Df Residuals:                  112318   BIC:                                  2.799e+06\n",
      "Df Model:                          35                                                  \n",
      "Covariance Type:            nonrobust                                                  \n",
      "=========================================================================================================\n",
      "                                            coef    std err          t      P>|t|      [0.025      0.975]\n",
      "---------------------------------------------------------------------------------------------------------\n",
      "floor_area_sqm                         4435.1241      7.717    574.724      0.000    4419.999    4450.249\n",
      "max_floor_lvl                          4892.7639     40.128    121.929      0.000    4814.114    4971.414\n",
      "mid                                    3482.4160     40.461     86.068      0.000    3403.113    3561.719\n",
      "hdb_age                               -2122.0338     15.894   -133.512      0.000   -2153.186   -2090.882\n",
      "planning_area_Bedok                    1.349e+04   1064.714     12.671      0.000    1.14e+04    1.56e+04\n",
      "planning_area_Bishan                   1.088e+05   1543.536     70.471      0.000    1.06e+05    1.12e+05\n",
      "planning_area_Bukit Batok             -4.103e+04   1188.802    -34.515      0.000   -4.34e+04   -3.87e+04\n",
      "planning_area_Bukit Merah              1.045e+05   1242.185     84.163      0.000    1.02e+05    1.07e+05\n",
      "planning_area_Bukit Panjang           -9.709e+04   1210.556    -80.206      0.000   -9.95e+04   -9.47e+04\n",
      "planning_area_Bukit Timah              2.006e+05   3740.479     53.624      0.000    1.93e+05    2.08e+05\n",
      "planning_area_Changi                   5.057e+04    1.1e+04      4.605      0.000     2.9e+04    7.21e+04\n",
      "planning_area_Choa Chu Kang            -1.28e+05   1178.680   -108.615      0.000    -1.3e+05   -1.26e+05\n",
      "planning_area_Clementi                 5.913e+04   1411.720     41.886      0.000    5.64e+04    6.19e+04\n",
      "planning_area_Downtown Core            1.854e+05   1.22e+04     15.194      0.000    1.61e+05    2.09e+05\n",
      "planning_area_Geylang                  5.831e+04   1369.601     42.572      0.000    5.56e+04     6.1e+04\n",
      "planning_area_Hougang                 -3.232e+04   1098.451    -29.425      0.000   -3.45e+04   -3.02e+04\n",
      "planning_area_Jurong East             -3.657e+04   1434.086    -25.500      0.000   -3.94e+04   -3.38e+04\n",
      "planning_area_Jurong West             -8.212e+04    987.513    -83.163      0.000   -8.41e+04   -8.02e+04\n",
      "planning_area_Kallang                  7.404e+04   1501.323     49.315      0.000    7.11e+04     7.7e+04\n",
      "planning_area_Marine Parade            1.326e+05   2499.179     53.068      0.000    1.28e+05    1.38e+05\n",
      "planning_area_Novena                     3.5e+04   2294.215     15.256      0.000    3.05e+04    3.95e+04\n",
      "planning_area_Outram                    1.52e+05   2894.501     52.530      0.000    1.46e+05    1.58e+05\n",
      "planning_area_Pasir Ris               -6.697e+04   1321.057    -50.692      0.000   -6.96e+04   -6.44e+04\n",
      "planning_area_Punggol                 -5.867e+04   1066.003    -55.039      0.000   -6.08e+04   -5.66e+04\n",
      "planning_area_Queenstown               1.047e+05   1436.616     72.864      0.000    1.02e+05    1.07e+05\n",
      "planning_area_Rochor                   7.318e+04   3387.141     21.604      0.000    6.65e+04    7.98e+04\n",
      "planning_area_Sembawang               -1.245e+05   1371.029    -90.833      0.000   -1.27e+05   -1.22e+05\n",
      "planning_area_Sengkang                -8.229e+04    996.360    -82.593      0.000   -8.42e+04   -8.03e+04\n",
      "planning_area_Serangoon                3.478e+04   1482.636     23.456      0.000    3.19e+04    3.77e+04\n",
      "planning_area_Tampines                -2680.6085   1013.660     -2.644      0.008   -4667.368    -693.849\n",
      "planning_area_Tanglin                  2.203e+05   1.39e+04     15.854      0.000    1.93e+05    2.48e+05\n",
      "planning_area_Toa Payoh                4.957e+04   1329.529     37.287      0.000     4.7e+04    5.22e+04\n",
      "planning_area_Western Water Catchment -1.347e+05   1.96e+04     -6.862      0.000   -1.73e+05   -9.62e+04\n",
      "planning_area_Woodlands               -1.047e+05    990.312   -105.758      0.000   -1.07e+05   -1.03e+05\n",
      "planning_area_Yishun                  -5.128e+04    984.297    -52.099      0.000   -5.32e+04   -4.94e+04\n",
      "==============================================================================\n",
      "Omnibus:                     9005.175   Durbin-Watson:                   1.999\n",
      "Prob(Omnibus):                  0.000   Jarque-Bera (JB):            18587.491\n",
      "Skew:                           0.537   Prob(JB):                         0.00\n",
      "Kurtosis:                       4.678   Cond. No.                     1.12e+04\n",
      "==============================================================================\n",
      "\n",
      "Notes:\n",
      "[1] R² is computed without centering (uncentered) since the model does not contain a constant.\n",
      "[2] Standard Errors assume that the covariance matrix of the errors is correctly specified.\n",
      "[3] The condition number is large, 1.12e+04. This might indicate that there are\n",
      "strong multicollinearity or other numerical problems.\n"
     ]
    }
   ],
   "source": [
    "stats_x = pd.DataFrame(x_train)\n",
    "stats_x.columns = x.columns\n",
    "stats_model = sm.OLS(y_train, stats_x).fit() # fit in OLS model in statsmodel using post split trainning data\n",
    "print(stats_model.summary())"
   ]
  },
  {
   "cell_type": "markdown",
   "id": "5a7b9a04-eb86-42f8-968e-395ea951d44c",
   "metadata": {},
   "source": [
    "None of the above features have p value that is larger than 0.05, so I can conclude that they are all statstically significant.  "
   ]
  },
  {
   "cell_type": "markdown",
   "id": "b1f08fc9-ec20-4970-9316-e0ec4b613b8f",
   "metadata": {},
   "source": [
    "#### Scale data"
   ]
  },
  {
   "cell_type": "code",
   "execution_count": 6,
   "id": "4df3d55d-dd2c-49a2-9ec6-e299b159d9a5",
   "metadata": {},
   "outputs": [],
   "source": [
    "ss = StandardScaler()\n",
    "ss.fit(x_train)\n",
    "x_train = ss.transform(x_train)\n",
    "x_test = ss.transform(x_test)"
   ]
  },
  {
   "cell_type": "markdown",
   "id": "65cca524-e443-4486-94d1-0bc462722d16",
   "metadata": {},
   "source": [
    "#### Modeling"
   ]
  },
  {
   "cell_type": "code",
   "execution_count": 7,
   "id": "0a6b6fe1-78c4-4354-a99d-9999562b497c",
   "metadata": {},
   "outputs": [],
   "source": [
    "# Instantiate models\n",
    "lr = LinearRegression()\n",
    "lasso = LassoCV(n_alphas=200)\n",
    "ridge = RidgeCV(alphas=np.linspace(.1, 10, 100))"
   ]
  },
  {
   "cell_type": "code",
   "execution_count": 8,
   "id": "a6820041-b892-4f32-af72-f5ce2d32040f",
   "metadata": {},
   "outputs": [
    {
     "data": {
      "text/plain": [
       "0.8199092564662669"
      ]
     },
     "execution_count": 8,
     "metadata": {},
     "output_type": "execute_result"
    }
   ],
   "source": [
    "cross_val_score(lr, x_train, y_train, cv=5).mean()"
   ]
  },
  {
   "cell_type": "code",
   "execution_count": 9,
   "id": "74e91e4e-d61d-4735-8506-87b6d7bf2436",
   "metadata": {},
   "outputs": [
    {
     "data": {
      "text/plain": [
       "0.8198584798689449"
      ]
     },
     "execution_count": 9,
     "metadata": {},
     "output_type": "execute_result"
    }
   ],
   "source": [
    "cross_val_score(lasso, x_train, y_train.values.ravel(), cv=5).mean() # needed to apply ravel() as lasso does not accept [row, column]"
   ]
  },
  {
   "cell_type": "code",
   "execution_count": 10,
   "id": "b43ad156-78fe-40a3-8937-b5c1e810e9f3",
   "metadata": {},
   "outputs": [
    {
     "data": {
      "text/plain": [
       "0.819909255049677"
      ]
     },
     "execution_count": 10,
     "metadata": {},
     "output_type": "execute_result"
    }
   ],
   "source": [
    "cross_val_score(ridge, x_train, y_train, cv=5).mean()"
   ]
  },
  {
   "cell_type": "markdown",
   "id": "5136cc1c-bd59-4b91-a778-1fc0c905cc07",
   "metadata": {},
   "source": [
    "All of the three models above performed better than the baseline model, which has R2 of merely 0.43  \n",
    "Considering the computation required, we would stick to the Linear Regression model in this case.  "
   ]
  },
  {
   "cell_type": "code",
   "execution_count": 11,
   "id": "0c71b1cc-582b-47bc-8634-4d8b5756707b",
   "metadata": {},
   "outputs": [
    {
     "name": "stdout",
     "output_type": "stream",
     "text": [
      "0.8200789886779373\n",
      "0.8179608759812433\n"
     ]
    }
   ],
   "source": [
    "lr.fit(x_train, y_train)\n",
    "print(lr.score(x_train, y_train))\n",
    "print(lr.score(x_test, y_test))"
   ]
  },
  {
   "cell_type": "markdown",
   "id": "4c8a09ad-f664-4462-acf4-ba2ebe688433",
   "metadata": {},
   "source": [
    "It looks like the model does not have overfitting issue, which means it can generalise well in testing data."
   ]
  },
  {
   "cell_type": "code",
   "execution_count": 12,
   "id": "e97ae675-b750-4a94-966e-2bc3c1d3f251",
   "metadata": {},
   "outputs": [
    {
     "data": {
      "image/png": "[encoded data removed]",
      "text/plain": [
       "<Figure size 1500x600 with 1 Axes>"
      ]
     },
     "metadata": {},
     "output_type": "display_data"
    }
   ],
   "source": [
    "pd.Series(lr.coef_[0], index=x.columns).plot.bar(figsize=(15, 6))\n",
    "plt.xlabel('Variables',size=16)\n",
    "plt.ylabel('Coefficient', size=16)\n",
    "plt.title('Features Importance', size=20)\n",
    "plt.show()"
   ]
  },
  {
   "cell_type": "markdown",
   "id": "d1907403-016e-4586-a6d2-746320c83527",
   "metadata": {},
   "source": [
    "Looking at the above, it looks like floor area has the largest positive coeficient, which means it has the largest positive impact on HDB resale price.  \n",
    "Since the input data x is scaled using standard scaler, we can interpret the result that as floor area increase by 1 standard deviation, we should expect the HDB resale price to increase by about 100k.  (This is not the most intuitive interpretation since I did not attempt to scale the coefficient back)  \n",
    "\n",
    "Meanwhile, the age of the flat has a negative impact on HDB resale price, which make sense as the house gets older, or closer to the 99 years tenor set out by HDB, the less valuable the flat is going to be.  Like the above, we can interpret that as HDB age increase by 1 standard deviation, we should expect the HDB resale price to drop by about 40k.\n",
    "\n",
    "Interestingly, though unsurprisingly, it looks like the areas such as Choa Chu Kang, Jurong West, Sengkang and Woodlands tend to have negative impact on prices. It also makes sense as these areas locate further away from town.  "
   ]
  },
  {
   "cell_type": "code",
   "execution_count": 13,
   "id": "ac88a854-c9a5-4847-a4c2-4a1cf5cfb4d3",
   "metadata": {},
   "outputs": [
    {
     "data": {
      "image/png": "[encoded data removed]",
      "text/plain": [
       "<Figure size 640x480 with 1 Axes>"
      ]
     },
     "metadata": {},
     "output_type": "display_data"
    }
   ],
   "source": [
    "pred = lr.predict(x_test)\n",
    "residuals = y_test - pred\n",
    "plt.scatter(pred, residuals)\n",
    "plt.xlabel('Predicted price')\n",
    "plt.ylabel('Residual')\n",
    "plt.title('Residual Plot')\n",
    "plt.show()"
   ]
  },
  {
   "cell_type": "markdown",
   "id": "8e20ec28-5b72-4ec1-a7d6-d7e6266c64c5",
   "metadata": {},
   "source": [
    "No visible pattern can be identified from the above residual plot, indicating the model is capturing most of the information."
   ]
  },
  {
   "cell_type": "code",
   "execution_count": 14,
   "id": "8778fe7f-e805-4e9d-8a71-d851e10486a8",
   "metadata": {},
   "outputs": [
    {
     "data": {
      "text/plain": [
       "60992.97426765514"
      ]
     },
     "execution_count": 14,
     "metadata": {},
     "output_type": "execute_result"
    }
   ],
   "source": [
    "mean_squared_error(y_test, pred, squared=False)"
   ]
  },
  {
   "cell_type": "markdown",
   "id": "231adb98-1a5c-43de-9261-afcfd2e6ff85",
   "metadata": {},
   "source": [
    "The model yields a RMSE of about 61k, I would be looking into another model that has more features, in an attempt to improve the RMSE and even R2 score."
   ]
  },
  {
   "cell_type": "markdown",
   "id": "588ee1c6-4dc2-4c21-91f9-f7bb6cccfb3a",
   "metadata": {},
   "source": [
    "#### Kaggle Submission"
   ]
  },
  {
   "cell_type": "code",
   "execution_count": 15,
   "id": "6fe7f3f7-8c3e-452a-8ce0-ab90bae86afa",
   "metadata": {},
   "outputs": [
    {
     "name": "stderr",
     "output_type": "stream",
     "text": [
      "C:\\Users\\heziy\\AppData\\Local\\Temp\\ipykernel_9172\\1903860682.py:3: DtypeWarning: Columns (40) have mixed types. Specify dtype option on import or set low_memory=False.\n",
      "  kaggle_test = pd.read_csv('./data/test.csv')\n"
     ]
    },
    {
     "data": {
      "text/html": [
       "<div>\n",
       "<style scoped>\n",
       "    .dataframe tbody tr th:only-of-type {\n",
       "        vertical-align: middle;\n",
       "    }\n",
       "\n",
       "    .dataframe tbody tr th {\n",
       "        vertical-align: top;\n",
       "    }\n",
       "\n",
       "    .dataframe thead th {\n",
       "        text-align: right;\n",
       "    }\n",
       "</style>\n",
       "<table border=\"1\" class=\"dataframe\">\n",
       "  <thead>\n",
       "    <tr style=\"text-align: right;\">\n",
       "      <th></th>\n",
       "      <th>id</th>\n",
       "      <th>Tranc_YearMonth</th>\n",
       "      <th>town</th>\n",
       "      <th>flat_type</th>\n",
       "      <th>block</th>\n",
       "      <th>street_name</th>\n",
       "      <th>storey_range</th>\n",
       "      <th>floor_area_sqm</th>\n",
       "      <th>flat_model</th>\n",
       "      <th>lease_commence_date</th>\n",
       "      <th>...</th>\n",
       "      <th>vacancy</th>\n",
       "      <th>pri_sch_affiliation</th>\n",
       "      <th>pri_sch_latitude</th>\n",
       "      <th>pri_sch_longitude</th>\n",
       "      <th>sec_sch_nearest_dist</th>\n",
       "      <th>sec_sch_name</th>\n",
       "      <th>cutoff_point</th>\n",
       "      <th>affiliation</th>\n",
       "      <th>sec_sch_latitude</th>\n",
       "      <th>sec_sch_longitude</th>\n",
       "    </tr>\n",
       "  </thead>\n",
       "  <tbody>\n",
       "    <tr>\n",
       "      <th>0</th>\n",
       "      <td>114982</td>\n",
       "      <td>2012-11</td>\n",
       "      <td>YISHUN</td>\n",
       "      <td>4 ROOM</td>\n",
       "      <td>173</td>\n",
       "      <td>YISHUN AVE 7</td>\n",
       "      <td>07 TO 09</td>\n",
       "      <td>84.0</td>\n",
       "      <td>Simplified</td>\n",
       "      <td>1987</td>\n",
       "      <td>...</td>\n",
       "      <td>92</td>\n",
       "      <td>0</td>\n",
       "      <td>1.433681</td>\n",
       "      <td>103.832924</td>\n",
       "      <td>156.322353</td>\n",
       "      <td>Ahmad Ibrahim Secondary School</td>\n",
       "      <td>218</td>\n",
       "      <td>0</td>\n",
       "      <td>1.436235</td>\n",
       "      <td>103.829987</td>\n",
       "    </tr>\n",
       "    <tr>\n",
       "      <th>1</th>\n",
       "      <td>95653</td>\n",
       "      <td>2019-08</td>\n",
       "      <td>JURONG WEST</td>\n",
       "      <td>5 ROOM</td>\n",
       "      <td>986C</td>\n",
       "      <td>JURONG WEST ST 93</td>\n",
       "      <td>04 TO 06</td>\n",
       "      <td>112.0</td>\n",
       "      <td>Premium Apartment</td>\n",
       "      <td>2008</td>\n",
       "      <td>...</td>\n",
       "      <td>45</td>\n",
       "      <td>0</td>\n",
       "      <td>1.339244</td>\n",
       "      <td>103.698896</td>\n",
       "      <td>739.371688</td>\n",
       "      <td>Jurong West Secondary School</td>\n",
       "      <td>199</td>\n",
       "      <td>0</td>\n",
       "      <td>1.335256</td>\n",
       "      <td>103.702098</td>\n",
       "    </tr>\n",
       "    <tr>\n",
       "      <th>2</th>\n",
       "      <td>40303</td>\n",
       "      <td>2013-10</td>\n",
       "      <td>ANG MO KIO</td>\n",
       "      <td>3 ROOM</td>\n",
       "      <td>534</td>\n",
       "      <td>ANG MO KIO AVE 10</td>\n",
       "      <td>07 TO 09</td>\n",
       "      <td>68.0</td>\n",
       "      <td>New Generation</td>\n",
       "      <td>1980</td>\n",
       "      <td>...</td>\n",
       "      <td>36</td>\n",
       "      <td>0</td>\n",
       "      <td>1.371893</td>\n",
       "      <td>103.851811</td>\n",
       "      <td>305.071191</td>\n",
       "      <td>Anderson Secondary School</td>\n",
       "      <td>245</td>\n",
       "      <td>0</td>\n",
       "      <td>1.374242</td>\n",
       "      <td>103.851430</td>\n",
       "    </tr>\n",
       "    <tr>\n",
       "      <th>3</th>\n",
       "      <td>109506</td>\n",
       "      <td>2017-10</td>\n",
       "      <td>WOODLANDS</td>\n",
       "      <td>4 ROOM</td>\n",
       "      <td>29</td>\n",
       "      <td>MARSILING DR</td>\n",
       "      <td>01 TO 03</td>\n",
       "      <td>97.0</td>\n",
       "      <td>New Generation</td>\n",
       "      <td>1979</td>\n",
       "      <td>...</td>\n",
       "      <td>54</td>\n",
       "      <td>0</td>\n",
       "      <td>1.434423</td>\n",
       "      <td>103.773698</td>\n",
       "      <td>433.454591</td>\n",
       "      <td>Woodlands Secondary School</td>\n",
       "      <td>188</td>\n",
       "      <td>0</td>\n",
       "      <td>1.439183</td>\n",
       "      <td>103.774499</td>\n",
       "    </tr>\n",
       "    <tr>\n",
       "      <th>4</th>\n",
       "      <td>100149</td>\n",
       "      <td>2016-08</td>\n",
       "      <td>BUKIT BATOK</td>\n",
       "      <td>4 ROOM</td>\n",
       "      <td>170</td>\n",
       "      <td>BT BATOK WEST AVE 8</td>\n",
       "      <td>16 TO 18</td>\n",
       "      <td>103.0</td>\n",
       "      <td>Model A</td>\n",
       "      <td>1985</td>\n",
       "      <td>...</td>\n",
       "      <td>40</td>\n",
       "      <td>0</td>\n",
       "      <td>1.349195</td>\n",
       "      <td>103.741000</td>\n",
       "      <td>217.295361</td>\n",
       "      <td>Bukit Batok Secondary School</td>\n",
       "      <td>223</td>\n",
       "      <td>0</td>\n",
       "      <td>1.348351</td>\n",
       "      <td>103.740873</td>\n",
       "    </tr>\n",
       "  </tbody>\n",
       "</table>\n",
       "<p>5 rows × 76 columns</p>\n",
       "</div>"
      ],
      "text/plain": [
       "       id Tranc_YearMonth         town flat_type block          street_name  \\\n",
       "0  114982         2012-11       YISHUN    4 ROOM   173         YISHUN AVE 7   \n",
       "1   95653         2019-08  JURONG WEST    5 ROOM  986C    JURONG WEST ST 93   \n",
       "2   40303         2013-10   ANG MO KIO    3 ROOM   534    ANG MO KIO AVE 10   \n",
       "3  109506         2017-10    WOODLANDS    4 ROOM    29         MARSILING DR   \n",
       "4  100149         2016-08  BUKIT BATOK    4 ROOM   170  BT BATOK WEST AVE 8   \n",
       "\n",
       "  storey_range  floor_area_sqm         flat_model  lease_commence_date  ...  \\\n",
       "0     07 TO 09            84.0         Simplified                 1987  ...   \n",
       "1     04 TO 06           112.0  Premium Apartment                 2008  ...   \n",
       "2     07 TO 09            68.0     New Generation                 1980  ...   \n",
       "3     01 TO 03            97.0     New Generation                 1979  ...   \n",
       "4     16 TO 18           103.0            Model A                 1985  ...   \n",
       "\n",
       "   vacancy  pri_sch_affiliation  pri_sch_latitude  pri_sch_longitude  \\\n",
       "0       92                    0          1.433681         103.832924   \n",
       "1       45                    0          1.339244         103.698896   \n",
       "2       36                    0          1.371893         103.851811   \n",
       "3       54                    0          1.434423         103.773698   \n",
       "4       40                    0          1.349195         103.741000   \n",
       "\n",
       "   sec_sch_nearest_dist                    sec_sch_name cutoff_point  \\\n",
       "0            156.322353  Ahmad Ibrahim Secondary School          218   \n",
       "1            739.371688    Jurong West Secondary School          199   \n",
       "2            305.071191       Anderson Secondary School          245   \n",
       "3            433.454591      Woodlands Secondary School          188   \n",
       "4            217.295361    Bukit Batok Secondary School          223   \n",
       "\n",
       "  affiliation  sec_sch_latitude  sec_sch_longitude  \n",
       "0           0          1.436235         103.829987  \n",
       "1           0          1.335256         103.702098  \n",
       "2           0          1.374242         103.851430  \n",
       "3           0          1.439183         103.774499  \n",
       "4           0          1.348351         103.740873  \n",
       "\n",
       "[5 rows x 76 columns]"
      ]
     },
     "execution_count": 15,
     "metadata": {},
     "output_type": "execute_result"
    }
   ],
   "source": [
    "# Load data\n",
    "\n",
    "kaggle_test = pd.read_csv('./data/test.csv')\n",
    "kaggle_test.head()"
   ]
  },
  {
   "cell_type": "code",
   "execution_count": 16,
   "id": "e76a1eeb-6178-4ee3-a138-f585ba61ac61",
   "metadata": {},
   "outputs": [],
   "source": [
    "# Select features\n",
    "\n",
    "kaggle_test = kaggle_test[['id','floor_area_sqm','max_floor_lvl', 'mid', 'hdb_age', 'planning_area']]\n",
    "kaggle_test = pd.get_dummies(kaggle_test, columns=['planning_area'], drop_first=True)"
   ]
  },
  {
   "cell_type": "code",
   "execution_count": 17,
   "id": "ed371fe4-2cf7-433e-8436-d9454591c334",
   "metadata": {},
   "outputs": [],
   "source": [
    "# seperate out the ID column, and transform the holdout set following the scaler used in training set\n",
    "\n",
    "kaggle_sub = kaggle_test[['id']]\n",
    "kaggle_test = kaggle_test.drop('id', axis=1)\n",
    "kaggle_test = ss.transform(kaggle_test)"
   ]
  },
  {
   "cell_type": "code",
   "execution_count": 18,
   "id": "cef5c116-f691-4c20-814b-03460a3115af",
   "metadata": {},
   "outputs": [],
   "source": [
    "# predict the result with Linear Regression model\n",
    "kaggle_sub['predicted'] = lr.predict(kaggle_test)"
   ]
  },
  {
   "cell_type": "code",
   "execution_count": 19,
   "id": "f9b72a80-f47d-45af-bd16-81be790566f3",
   "metadata": {},
   "outputs": [
    {
     "data": {
      "text/html": [
       "<div>\n",
       "<style scoped>\n",
       "    .dataframe tbody tr th:only-of-type {\n",
       "        vertical-align: middle;\n",
       "    }\n",
       "\n",
       "    .dataframe tbody tr th {\n",
       "        vertical-align: top;\n",
       "    }\n",
       "\n",
       "    .dataframe thead th {\n",
       "        text-align: right;\n",
       "    }\n",
       "</style>\n",
       "<table border=\"1\" class=\"dataframe\">\n",
       "  <thead>\n",
       "    <tr style=\"text-align: right;\">\n",
       "      <th></th>\n",
       "      <th>predicted</th>\n",
       "    </tr>\n",
       "    <tr>\n",
       "      <th>id</th>\n",
       "      <th></th>\n",
       "    </tr>\n",
       "  </thead>\n",
       "  <tbody>\n",
       "    <tr>\n",
       "      <th>114982</th>\n",
       "      <td>331687.958487</td>\n",
       "    </tr>\n",
       "    <tr>\n",
       "      <th>95653</th>\n",
       "      <td>488902.701619</td>\n",
       "    </tr>\n",
       "    <tr>\n",
       "      <th>40303</th>\n",
       "      <td>332059.019027</td>\n",
       "    </tr>\n",
       "    <tr>\n",
       "      <th>109506</th>\n",
       "      <td>291516.932983</td>\n",
       "    </tr>\n",
       "    <tr>\n",
       "      <th>100149</th>\n",
       "      <td>494064.347216</td>\n",
       "    </tr>\n",
       "  </tbody>\n",
       "</table>\n",
       "</div>"
      ],
      "text/plain": [
       "            predicted\n",
       "id                   \n",
       "114982  331687.958487\n",
       "95653   488902.701619\n",
       "40303   332059.019027\n",
       "109506  291516.932983\n",
       "100149  494064.347216"
      ]
     },
     "execution_count": 19,
     "metadata": {},
     "output_type": "execute_result"
    }
   ],
   "source": [
    "# re-index and checkthe format\n",
    "kaggle_sub = kaggle_sub.set_index(['id'])\n",
    "kaggle_sub.head()"
   ]
  },
  {
   "cell_type": "code",
   "execution_count": 20,
   "id": "d7151ce5-93d6-4a53-8883-dc72e14e6ef5",
   "metadata": {},
   "outputs": [],
   "source": [
    "kaggle_sub.to_csv('./data/kaggle_sub1.csv')"
   ]
  },
  {
   "cell_type": "code",
   "execution_count": null,
   "id": "4b2afdf6-9bc7-4efd-b041-6a62d212e635",
   "metadata": {},
   "outputs": [],
   "source": []
  }
 ],
 "metadata": {
  "kernelspec": {
   "display_name": "Python 3 (ipykernel)",
   "language": "python",
   "name": "python3"
  },
  "language_info": {
   "codemirror_mode": {
    "name": "ipython",
    "version": 3
   },
   "file_extension": ".py",
   "mimetype": "text/x-python",
   "name": "python",
   "nbconvert_exporter": "python",
   "pygments_lexer": "ipython3",
   "version": "3.10.13"
  }
 },
 "nbformat": 4,
 "nbformat_minor": 5
}
